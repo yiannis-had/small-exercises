{
 "cells": [
  {
   "cell_type": "markdown",
   "metadata": {},
   "source": [
    "## Initially I opted to go with Option B:\n",
    "- Transform the json profiles into a csv or dataframe and provide exploratory analysis of the dataset.\n",
    "- Summarise and explain the key trends in the data, providing visualisations and tabular representations as necessary.\n",
    "- Explain what factors you think are significant and insignificant in contributing to fraud"
   ]
  },
  {
   "cell_type": "code",
   "execution_count": 1,
   "metadata": {},
   "outputs": [],
   "source": [
    "import json\n",
    "import seaborn as sns\n",
    "import matplotlib.pyplot as plt\n",
    "import pandas as pd\n",
    "%matplotlib inline"
   ]
  },
  {
   "cell_type": "code",
   "execution_count": 2,
   "metadata": {
    "scrolled": false
   },
   "outputs": [],
   "source": [
    "pd.set_option('max_colwidth', 300)\n",
    "pd.set_option('display.max_columns', 50)\n",
    "with open('customers.json') as json_file:\n",
    "    df = pd.read_json(json_file, lines=True)"
   ]
  },
  {
   "cell_type": "code",
   "execution_count": 3,
   "metadata": {},
   "outputs": [
    {
     "data": {
      "text/plain": [
       "count       168\n",
       "unique        2\n",
       "top       False\n",
       "freq        107\n",
       "Name: fraudulent, dtype: object"
      ]
     },
     "execution_count": 3,
     "metadata": {},
     "output_type": "execute_result"
    }
   ],
   "source": [
    "df['fraudulent'].describe()\n",
    "# 107 False & 61 True fraudulent customers"
   ]
  },
  {
   "cell_type": "code",
   "execution_count": 4,
   "metadata": {},
   "outputs": [
    {
     "data": {
      "text/html": [
       "<div>\n",
       "<style scoped>\n",
       "    .dataframe tbody tr th:only-of-type {\n",
       "        vertical-align: middle;\n",
       "    }\n",
       "\n",
       "    .dataframe tbody tr th {\n",
       "        vertical-align: top;\n",
       "    }\n",
       "\n",
       "    .dataframe thead th {\n",
       "        text-align: right;\n",
       "    }\n",
       "</style>\n",
       "<table border=\"1\" class=\"dataframe\">\n",
       "  <thead>\n",
       "    <tr style=\"text-align: right;\">\n",
       "      <th></th>\n",
       "      <th>customer</th>\n",
       "      <th>fraudulent</th>\n",
       "      <th>orders</th>\n",
       "      <th>paymentMethods</th>\n",
       "      <th>transactions</th>\n",
       "    </tr>\n",
       "  </thead>\n",
       "  <tbody>\n",
       "    <tr>\n",
       "      <th>0</th>\n",
       "      <td>{'customerEmail': 'josephhoward@yahoo.com', 'customerPhone': '400-108-5415', 'customerDevice': 'yyeiaxpltf82440jnb3v', 'customerIPAddress': '8.129.104.40', 'customerBillingAddress': '5493 Jones Islands\n",
       "Brownside, CA 51896'}</td>\n",
       "      <td>False</td>\n",
       "      <td>[{'orderId': 'vjbdvd', 'orderAmount': 18, 'orderState': 'pending', 'orderShippingAddress': '5493 Jones Islands\n",
       "Brownside, CA 51896'}, {'orderId': 'yp6x27', 'orderAmount': 26, 'orderState': 'fulfilled', 'orderShippingAddress': '5493 Jones Islands\n",
       "Brownside, CA 51896'}]</td>\n",
       "      <td>[{'paymentMethodId': 'wt07xm68b', 'paymentMethodRegistrationFailure': True, 'paymentMethodType': 'card', 'paymentMethodProvider': 'JCB 16 digit', 'paymentMethodIssuer': 'Citizens First Banks'}]</td>\n",
       "      <td>[{'transactionId': 'a9lcj51r', 'orderId': 'vjbdvd', 'paymentMethodId': 'wt07xm68b', 'transactionAmount': 18, 'transactionFailed': False}, {'transactionId': 'y4wcv03i', 'orderId': 'yp6x27', 'paymentMethodId': 'wt07xm68b', 'transactionAmount': 26, 'transactionFailed': False}]</td>\n",
       "    </tr>\n",
       "    <tr>\n",
       "      <th>1</th>\n",
       "      <td>{'customerEmail': 'evansjeffery@yahoo.com', 'customerPhone': '1-788-091-7546', 'customerDevice': 'r0jpm7xaeqqa3kr6mzum', 'customerIPAddress': '219.173.211.202', 'customerBillingAddress': '356 Elizabeth Inlet Suite 120\n",
       "Port Joshuabury, NM 37681'}</td>\n",
       "      <td>True</td>\n",
       "      <td>[{'orderId': 'nlghpa', 'orderAmount': 45, 'orderState': 'fulfilled', 'orderShippingAddress': '898 Henry Ports\n",
       "New Keithview, CA 95893-2497'}, {'orderId': 'uw0eeb', 'orderAmount': 23, 'orderState': 'fulfilled', 'orderShippingAddress': '356 Elizabeth Inlet Suite 120\n",
       "Port Joshuabury, NM 37681'}, {'...</td>\n",
       "      <td>[{'paymentMethodId': 'y3xp697jx', 'paymentMethodRegistrationFailure': True, 'paymentMethodType': 'bitcoin', 'paymentMethodProvider': 'VISA 16 digit', 'paymentMethodIssuer': 'Solace Banks'}, {'paymentMethodId': '6krszxc05', 'paymentMethodRegistrationFailure': False, 'paymentMethodType': 'card', '...</td>\n",
       "      <td>[{'transactionId': '5mi94sfw', 'orderId': 'nlghpa', 'paymentMethodId': '41ug157xz', 'transactionAmount': 45, 'transactionFailed': False}, {'transactionId': 'br8ba1nu', 'orderId': 'uw0eeb', 'paymentMethodId': '41ug157xz', 'transactionAmount': 23, 'transactionFailed': False}, {'transactionId': 'a3...</td>\n",
       "    </tr>\n",
       "    <tr>\n",
       "      <th>2</th>\n",
       "      <td>{'customerEmail': 'andersonwilliam@yahoo.com', 'customerPhone': '024.420.0375', 'customerDevice': '4m7h5ipl1shyavt6vv2r', 'customerIPAddress': '67b7:3db8:67e0:3bea:b9d0:90c1:2b60:b9f0', 'customerBillingAddress': '8478 Sean Ridges Apt. 441\n",
       "Davisberg, PR 72250'}</td>\n",
       "      <td>False</td>\n",
       "      <td>[{'orderId': 'yk34y2', 'orderAmount': 33, 'orderState': 'failed', 'orderShippingAddress': '8478 Sean Ridges Apt. 441\n",
       "Davisberg, PR 72250'}, {'orderId': '28v6b0', 'orderAmount': 24, 'orderState': 'fulfilled', 'orderShippingAddress': '8478 Sean Ridges Apt. 441\n",
       "Davisberg, PR 72250'}, {'orderId': 'i...</td>\n",
       "      <td>[{'paymentMethodId': '8pneoi03z', 'paymentMethodRegistrationFailure': False, 'paymentMethodType': 'card', 'paymentMethodProvider': 'JCB 16 digit', 'paymentMethodIssuer': 'Bastion Banks'}, {'paymentMethodId': 'dluy3jka0', 'paymentMethodRegistrationFailure': False, 'paymentMethodType': 'card', 'pa...</td>\n",
       "      <td>[{'transactionId': 'q3lyvbza', 'orderId': 'yk34y2', 'paymentMethodId': '8pneoi03z', 'transactionAmount': 33, 'transactionFailed': False}, {'transactionId': '3alf9irw', 'orderId': '28v6b0', 'paymentMethodId': '8pneoi03z', 'transactionAmount': 24, 'transactionFailed': True}, {'transactionId': '69w...</td>\n",
       "    </tr>\n",
       "  </tbody>\n",
       "</table>\n",
       "</div>"
      ],
      "text/plain": [
       "                                                                                                                                                                                                                                                               customer  \\\n",
       "0                                       {'customerEmail': 'josephhoward@yahoo.com', 'customerPhone': '400-108-5415', 'customerDevice': 'yyeiaxpltf82440jnb3v', 'customerIPAddress': '8.129.104.40', 'customerBillingAddress': '5493 Jones Islands\n",
       "Brownside, CA 51896'}   \n",
       "1                 {'customerEmail': 'evansjeffery@yahoo.com', 'customerPhone': '1-788-091-7546', 'customerDevice': 'r0jpm7xaeqqa3kr6mzum', 'customerIPAddress': '219.173.211.202', 'customerBillingAddress': '356 Elizabeth Inlet Suite 120\n",
       "Port Joshuabury, NM 37681'}   \n",
       "2  {'customerEmail': 'andersonwilliam@yahoo.com', 'customerPhone': '024.420.0375', 'customerDevice': '4m7h5ipl1shyavt6vv2r', 'customerIPAddress': '67b7:3db8:67e0:3bea:b9d0:90c1:2b60:b9f0', 'customerBillingAddress': '8478 Sean Ridges Apt. 441\n",
       "Davisberg, PR 72250'}   \n",
       "\n",
       "   fraudulent  \\\n",
       "0       False   \n",
       "1        True   \n",
       "2       False   \n",
       "\n",
       "                                                                                                                                                                                                                                                                                                        orders  \\\n",
       "0                                 [{'orderId': 'vjbdvd', 'orderAmount': 18, 'orderState': 'pending', 'orderShippingAddress': '5493 Jones Islands\n",
       "Brownside, CA 51896'}, {'orderId': 'yp6x27', 'orderAmount': 26, 'orderState': 'fulfilled', 'orderShippingAddress': '5493 Jones Islands\n",
       "Brownside, CA 51896'}]   \n",
       "1  [{'orderId': 'nlghpa', 'orderAmount': 45, 'orderState': 'fulfilled', 'orderShippingAddress': '898 Henry Ports\n",
       "New Keithview, CA 95893-2497'}, {'orderId': 'uw0eeb', 'orderAmount': 23, 'orderState': 'fulfilled', 'orderShippingAddress': '356 Elizabeth Inlet Suite 120\n",
       "Port Joshuabury, NM 37681'}, {'...   \n",
       "2  [{'orderId': 'yk34y2', 'orderAmount': 33, 'orderState': 'failed', 'orderShippingAddress': '8478 Sean Ridges Apt. 441\n",
       "Davisberg, PR 72250'}, {'orderId': '28v6b0', 'orderAmount': 24, 'orderState': 'fulfilled', 'orderShippingAddress': '8478 Sean Ridges Apt. 441\n",
       "Davisberg, PR 72250'}, {'orderId': 'i...   \n",
       "\n",
       "                                                                                                                                                                                                                                                                                                paymentMethods  \\\n",
       "0                                                                                                            [{'paymentMethodId': 'wt07xm68b', 'paymentMethodRegistrationFailure': True, 'paymentMethodType': 'card', 'paymentMethodProvider': 'JCB 16 digit', 'paymentMethodIssuer': 'Citizens First Banks'}]   \n",
       "1  [{'paymentMethodId': 'y3xp697jx', 'paymentMethodRegistrationFailure': True, 'paymentMethodType': 'bitcoin', 'paymentMethodProvider': 'VISA 16 digit', 'paymentMethodIssuer': 'Solace Banks'}, {'paymentMethodId': '6krszxc05', 'paymentMethodRegistrationFailure': False, 'paymentMethodType': 'card', '...   \n",
       "2  [{'paymentMethodId': '8pneoi03z', 'paymentMethodRegistrationFailure': False, 'paymentMethodType': 'card', 'paymentMethodProvider': 'JCB 16 digit', 'paymentMethodIssuer': 'Bastion Banks'}, {'paymentMethodId': 'dluy3jka0', 'paymentMethodRegistrationFailure': False, 'paymentMethodType': 'card', 'pa...   \n",
       "\n",
       "                                                                                                                                                                                                                                                                                                  transactions  \n",
       "0                           [{'transactionId': 'a9lcj51r', 'orderId': 'vjbdvd', 'paymentMethodId': 'wt07xm68b', 'transactionAmount': 18, 'transactionFailed': False}, {'transactionId': 'y4wcv03i', 'orderId': 'yp6x27', 'paymentMethodId': 'wt07xm68b', 'transactionAmount': 26, 'transactionFailed': False}]  \n",
       "1  [{'transactionId': '5mi94sfw', 'orderId': 'nlghpa', 'paymentMethodId': '41ug157xz', 'transactionAmount': 45, 'transactionFailed': False}, {'transactionId': 'br8ba1nu', 'orderId': 'uw0eeb', 'paymentMethodId': '41ug157xz', 'transactionAmount': 23, 'transactionFailed': False}, {'transactionId': 'a3...  \n",
       "2  [{'transactionId': 'q3lyvbza', 'orderId': 'yk34y2', 'paymentMethodId': '8pneoi03z', 'transactionAmount': 33, 'transactionFailed': False}, {'transactionId': '3alf9irw', 'orderId': '28v6b0', 'paymentMethodId': '8pneoi03z', 'transactionAmount': 24, 'transactionFailed': True}, {'transactionId': '69w...  "
      ]
     },
     "execution_count": 4,
     "metadata": {},
     "output_type": "execute_result"
    }
   ],
   "source": [
    "df.head(3)"
   ]
  },
  {
   "cell_type": "code",
   "execution_count": 34,
   "metadata": {
    "scrolled": false
   },
   "outputs": [
    {
     "data": {
      "text/html": [
       "<div>\n",
       "<style scoped>\n",
       "    .dataframe tbody tr th:only-of-type {\n",
       "        vertical-align: middle;\n",
       "    }\n",
       "\n",
       "    .dataframe tbody tr th {\n",
       "        vertical-align: top;\n",
       "    }\n",
       "\n",
       "    .dataframe thead th {\n",
       "        text-align: right;\n",
       "    }\n",
       "</style>\n",
       "<table border=\"1\" class=\"dataframe\">\n",
       "  <thead>\n",
       "    <tr style=\"text-align: right;\">\n",
       "      <th></th>\n",
       "      <th>customer</th>\n",
       "      <th>fraudulent</th>\n",
       "      <th>paymentMethods</th>\n",
       "      <th>transactions</th>\n",
       "      <th>0</th>\n",
       "      <th>1</th>\n",
       "      <th>2</th>\n",
       "      <th>3</th>\n",
       "      <th>4</th>\n",
       "      <th>5</th>\n",
       "      <th>6</th>\n",
       "      <th>7</th>\n",
       "    </tr>\n",
       "  </thead>\n",
       "  <tbody>\n",
       "    <tr>\n",
       "      <th>0</th>\n",
       "      <td>{'customerEmail': 'josephhoward@yahoo.com', 'customerPhone': '400-108-5415', 'customerDevice': 'yyeiaxpltf82440jnb3v', 'customerIPAddress': '8.129.104.40', 'customerBillingAddress': '5493 Jones Islands\n",
       "Brownside, CA 51896'}</td>\n",
       "      <td>False</td>\n",
       "      <td>[{'paymentMethodId': 'wt07xm68b', 'paymentMethodRegistrationFailure': True, 'paymentMethodType': 'card', 'paymentMethodProvider': 'JCB 16 digit', 'paymentMethodIssuer': 'Citizens First Banks'}]</td>\n",
       "      <td>[{'transactionId': 'a9lcj51r', 'orderId': 'vjbdvd', 'paymentMethodId': 'wt07xm68b', 'transactionAmount': 18, 'transactionFailed': False}, {'transactionId': 'y4wcv03i', 'orderId': 'yp6x27', 'paymentMethodId': 'wt07xm68b', 'transactionAmount': 26, 'transactionFailed': False}]</td>\n",
       "      <td>{'orderId': 'vjbdvd', 'orderAmount': 18, 'orderState': 'pending', 'orderShippingAddress': '5493 Jones Islands\n",
       "Brownside, CA 51896'}</td>\n",
       "      <td>{'orderId': 'yp6x27', 'orderAmount': 26, 'orderState': 'fulfilled', 'orderShippingAddress': '5493 Jones Islands\n",
       "Brownside, CA 51896'}</td>\n",
       "      <td>NaN</td>\n",
       "      <td>NaN</td>\n",
       "      <td>NaN</td>\n",
       "      <td>NaN</td>\n",
       "      <td>NaN</td>\n",
       "      <td>NaN</td>\n",
       "    </tr>\n",
       "    <tr>\n",
       "      <th>1</th>\n",
       "      <td>{'customerEmail': 'evansjeffery@yahoo.com', 'customerPhone': '1-788-091-7546', 'customerDevice': 'r0jpm7xaeqqa3kr6mzum', 'customerIPAddress': '219.173.211.202', 'customerBillingAddress': '356 Elizabeth Inlet Suite 120\n",
       "Port Joshuabury, NM 37681'}</td>\n",
       "      <td>True</td>\n",
       "      <td>[{'paymentMethodId': 'y3xp697jx', 'paymentMethodRegistrationFailure': True, 'paymentMethodType': 'bitcoin', 'paymentMethodProvider': 'VISA 16 digit', 'paymentMethodIssuer': 'Solace Banks'}, {'paymentMethodId': '6krszxc05', 'paymentMethodRegistrationFailure': False, 'paymentMethodType': 'card', '...</td>\n",
       "      <td>[{'transactionId': '5mi94sfw', 'orderId': 'nlghpa', 'paymentMethodId': '41ug157xz', 'transactionAmount': 45, 'transactionFailed': False}, {'transactionId': 'br8ba1nu', 'orderId': 'uw0eeb', 'paymentMethodId': '41ug157xz', 'transactionAmount': 23, 'transactionFailed': False}, {'transactionId': 'a3...</td>\n",
       "      <td>{'orderId': 'nlghpa', 'orderAmount': 45, 'orderState': 'fulfilled', 'orderShippingAddress': '898 Henry Ports\n",
       "New Keithview, CA 95893-2497'}</td>\n",
       "      <td>{'orderId': 'uw0eeb', 'orderAmount': 23, 'orderState': 'fulfilled', 'orderShippingAddress': '356 Elizabeth Inlet Suite 120\n",
       "Port Joshuabury, NM 37681'}</td>\n",
       "      <td>{'orderId': 'bn44oh', 'orderAmount': 43, 'orderState': 'fulfilled', 'orderShippingAddress': '5093 Bryan Forks\n",
       "Joshuaton, FM 01565-9801'}</td>\n",
       "      <td>NaN</td>\n",
       "      <td>NaN</td>\n",
       "      <td>NaN</td>\n",
       "      <td>NaN</td>\n",
       "      <td>NaN</td>\n",
       "    </tr>\n",
       "    <tr>\n",
       "      <th>2</th>\n",
       "      <td>{'customerEmail': 'andersonwilliam@yahoo.com', 'customerPhone': '024.420.0375', 'customerDevice': '4m7h5ipl1shyavt6vv2r', 'customerIPAddress': '67b7:3db8:67e0:3bea:b9d0:90c1:2b60:b9f0', 'customerBillingAddress': '8478 Sean Ridges Apt. 441\n",
       "Davisberg, PR 72250'}</td>\n",
       "      <td>False</td>\n",
       "      <td>[{'paymentMethodId': '8pneoi03z', 'paymentMethodRegistrationFailure': False, 'paymentMethodType': 'card', 'paymentMethodProvider': 'JCB 16 digit', 'paymentMethodIssuer': 'Bastion Banks'}, {'paymentMethodId': 'dluy3jka0', 'paymentMethodRegistrationFailure': False, 'paymentMethodType': 'card', 'pa...</td>\n",
       "      <td>[{'transactionId': 'q3lyvbza', 'orderId': 'yk34y2', 'paymentMethodId': '8pneoi03z', 'transactionAmount': 33, 'transactionFailed': False}, {'transactionId': '3alf9irw', 'orderId': '28v6b0', 'paymentMethodId': '8pneoi03z', 'transactionAmount': 24, 'transactionFailed': True}, {'transactionId': '69w...</td>\n",
       "      <td>{'orderId': 'yk34y2', 'orderAmount': 33, 'orderState': 'failed', 'orderShippingAddress': '8478 Sean Ridges Apt. 441\n",
       "Davisberg, PR 72250'}</td>\n",
       "      <td>{'orderId': '28v6b0', 'orderAmount': 24, 'orderState': 'fulfilled', 'orderShippingAddress': '8478 Sean Ridges Apt. 441\n",
       "Davisberg, PR 72250'}</td>\n",
       "      <td>{'orderId': 'itnk8y', 'orderAmount': 25, 'orderState': 'fulfilled', 'orderShippingAddress': '22396 Victor Lights\n",
       "Carsonstad, MO 93914'}</td>\n",
       "      <td>NaN</td>\n",
       "      <td>NaN</td>\n",
       "      <td>NaN</td>\n",
       "      <td>NaN</td>\n",
       "      <td>NaN</td>\n",
       "    </tr>\n",
       "  </tbody>\n",
       "</table>\n",
       "</div>"
      ],
      "text/plain": [
       "                                                                                                                                                                                                                                                               customer  \\\n",
       "0                                       {'customerEmail': 'josephhoward@yahoo.com', 'customerPhone': '400-108-5415', 'customerDevice': 'yyeiaxpltf82440jnb3v', 'customerIPAddress': '8.129.104.40', 'customerBillingAddress': '5493 Jones Islands\n",
       "Brownside, CA 51896'}   \n",
       "1                 {'customerEmail': 'evansjeffery@yahoo.com', 'customerPhone': '1-788-091-7546', 'customerDevice': 'r0jpm7xaeqqa3kr6mzum', 'customerIPAddress': '219.173.211.202', 'customerBillingAddress': '356 Elizabeth Inlet Suite 120\n",
       "Port Joshuabury, NM 37681'}   \n",
       "2  {'customerEmail': 'andersonwilliam@yahoo.com', 'customerPhone': '024.420.0375', 'customerDevice': '4m7h5ipl1shyavt6vv2r', 'customerIPAddress': '67b7:3db8:67e0:3bea:b9d0:90c1:2b60:b9f0', 'customerBillingAddress': '8478 Sean Ridges Apt. 441\n",
       "Davisberg, PR 72250'}   \n",
       "\n",
       "   fraudulent  \\\n",
       "0       False   \n",
       "1        True   \n",
       "2       False   \n",
       "\n",
       "                                                                                                                                                                                                                                                                                                paymentMethods  \\\n",
       "0                                                                                                            [{'paymentMethodId': 'wt07xm68b', 'paymentMethodRegistrationFailure': True, 'paymentMethodType': 'card', 'paymentMethodProvider': 'JCB 16 digit', 'paymentMethodIssuer': 'Citizens First Banks'}]   \n",
       "1  [{'paymentMethodId': 'y3xp697jx', 'paymentMethodRegistrationFailure': True, 'paymentMethodType': 'bitcoin', 'paymentMethodProvider': 'VISA 16 digit', 'paymentMethodIssuer': 'Solace Banks'}, {'paymentMethodId': '6krszxc05', 'paymentMethodRegistrationFailure': False, 'paymentMethodType': 'card', '...   \n",
       "2  [{'paymentMethodId': '8pneoi03z', 'paymentMethodRegistrationFailure': False, 'paymentMethodType': 'card', 'paymentMethodProvider': 'JCB 16 digit', 'paymentMethodIssuer': 'Bastion Banks'}, {'paymentMethodId': 'dluy3jka0', 'paymentMethodRegistrationFailure': False, 'paymentMethodType': 'card', 'pa...   \n",
       "\n",
       "                                                                                                                                                                                                                                                                                                  transactions  \\\n",
       "0                           [{'transactionId': 'a9lcj51r', 'orderId': 'vjbdvd', 'paymentMethodId': 'wt07xm68b', 'transactionAmount': 18, 'transactionFailed': False}, {'transactionId': 'y4wcv03i', 'orderId': 'yp6x27', 'paymentMethodId': 'wt07xm68b', 'transactionAmount': 26, 'transactionFailed': False}]   \n",
       "1  [{'transactionId': '5mi94sfw', 'orderId': 'nlghpa', 'paymentMethodId': '41ug157xz', 'transactionAmount': 45, 'transactionFailed': False}, {'transactionId': 'br8ba1nu', 'orderId': 'uw0eeb', 'paymentMethodId': '41ug157xz', 'transactionAmount': 23, 'transactionFailed': False}, {'transactionId': 'a3...   \n",
       "2  [{'transactionId': 'q3lyvbza', 'orderId': 'yk34y2', 'paymentMethodId': '8pneoi03z', 'transactionAmount': 33, 'transactionFailed': False}, {'transactionId': '3alf9irw', 'orderId': '28v6b0', 'paymentMethodId': '8pneoi03z', 'transactionAmount': 24, 'transactionFailed': True}, {'transactionId': '69w...   \n",
       "\n",
       "                                                                                                                                             0  \\\n",
       "0          {'orderId': 'vjbdvd', 'orderAmount': 18, 'orderState': 'pending', 'orderShippingAddress': '5493 Jones Islands\n",
       "Brownside, CA 51896'}   \n",
       "1  {'orderId': 'nlghpa', 'orderAmount': 45, 'orderState': 'fulfilled', 'orderShippingAddress': '898 Henry Ports\n",
       "New Keithview, CA 95893-2497'}   \n",
       "2    {'orderId': 'yk34y2', 'orderAmount': 33, 'orderState': 'failed', 'orderShippingAddress': '8478 Sean Ridges Apt. 441\n",
       "Davisberg, PR 72250'}   \n",
       "\n",
       "                                                                                                                                                        1  \\\n",
       "0                   {'orderId': 'yp6x27', 'orderAmount': 26, 'orderState': 'fulfilled', 'orderShippingAddress': '5493 Jones Islands\n",
       "Brownside, CA 51896'}   \n",
       "1  {'orderId': 'uw0eeb', 'orderAmount': 23, 'orderState': 'fulfilled', 'orderShippingAddress': '356 Elizabeth Inlet Suite 120\n",
       "Port Joshuabury, NM 37681'}   \n",
       "2            {'orderId': '28v6b0', 'orderAmount': 24, 'orderState': 'fulfilled', 'orderShippingAddress': '8478 Sean Ridges Apt. 441\n",
       "Davisberg, PR 72250'}   \n",
       "\n",
       "                                                                                                                                          2  \\\n",
       "0                                                                                                                                       NaN   \n",
       "1  {'orderId': 'bn44oh', 'orderAmount': 43, 'orderState': 'fulfilled', 'orderShippingAddress': '5093 Bryan Forks\n",
       "Joshuaton, FM 01565-9801'}   \n",
       "2   {'orderId': 'itnk8y', 'orderAmount': 25, 'orderState': 'fulfilled', 'orderShippingAddress': '22396 Victor Lights\n",
       "Carsonstad, MO 93914'}   \n",
       "\n",
       "     3    4    5    6    7  \n",
       "0  NaN  NaN  NaN  NaN  NaN  \n",
       "1  NaN  NaN  NaN  NaN  NaN  \n",
       "2  NaN  NaN  NaN  NaN  NaN  "
      ]
     },
     "execution_count": 34,
     "metadata": {},
     "output_type": "execute_result"
    }
   ],
   "source": [
    "df2 = pd.concat([df.drop(['orders'], axis=1), df['orders'].apply(pd.Series)], axis=1)\n",
    "df2.head(3)"
   ]
  },
  {
   "cell_type": "code",
   "execution_count": 35,
   "metadata": {
    "scrolled": false
   },
   "outputs": [
    {
     "data": {
      "text/html": [
       "<div>\n",
       "<style scoped>\n",
       "    .dataframe tbody tr th:only-of-type {\n",
       "        vertical-align: middle;\n",
       "    }\n",
       "\n",
       "    .dataframe tbody tr th {\n",
       "        vertical-align: top;\n",
       "    }\n",
       "\n",
       "    .dataframe thead th {\n",
       "        text-align: right;\n",
       "    }\n",
       "</style>\n",
       "<table border=\"1\" class=\"dataframe\">\n",
       "  <thead>\n",
       "    <tr style=\"text-align: right;\">\n",
       "      <th></th>\n",
       "      <th>customer</th>\n",
       "      <th>fraudulent</th>\n",
       "      <th>paymentMethods</th>\n",
       "      <th>0</th>\n",
       "      <th>1</th>\n",
       "      <th>2</th>\n",
       "      <th>3</th>\n",
       "      <th>4</th>\n",
       "      <th>5</th>\n",
       "      <th>6</th>\n",
       "      <th>7</th>\n",
       "      <th>0</th>\n",
       "      <th>1</th>\n",
       "      <th>2</th>\n",
       "      <th>3</th>\n",
       "      <th>4</th>\n",
       "      <th>5</th>\n",
       "      <th>6</th>\n",
       "      <th>7</th>\n",
       "      <th>8</th>\n",
       "      <th>9</th>\n",
       "      <th>10</th>\n",
       "      <th>11</th>\n",
       "      <th>12</th>\n",
       "      <th>13</th>\n",
       "      <th>14</th>\n",
       "    </tr>\n",
       "  </thead>\n",
       "  <tbody>\n",
       "    <tr>\n",
       "      <th>0</th>\n",
       "      <td>{'customerEmail': 'josephhoward@yahoo.com', 'customerPhone': '400-108-5415', 'customerDevice': 'yyeiaxpltf82440jnb3v', 'customerIPAddress': '8.129.104.40', 'customerBillingAddress': '5493 Jones Islands\n",
       "Brownside, CA 51896'}</td>\n",
       "      <td>False</td>\n",
       "      <td>[{'paymentMethodId': 'wt07xm68b', 'paymentMethodRegistrationFailure': True, 'paymentMethodType': 'card', 'paymentMethodProvider': 'JCB 16 digit', 'paymentMethodIssuer': 'Citizens First Banks'}]</td>\n",
       "      <td>{'orderId': 'vjbdvd', 'orderAmount': 18, 'orderState': 'pending', 'orderShippingAddress': '5493 Jones Islands\n",
       "Brownside, CA 51896'}</td>\n",
       "      <td>{'orderId': 'yp6x27', 'orderAmount': 26, 'orderState': 'fulfilled', 'orderShippingAddress': '5493 Jones Islands\n",
       "Brownside, CA 51896'}</td>\n",
       "      <td>NaN</td>\n",
       "      <td>NaN</td>\n",
       "      <td>NaN</td>\n",
       "      <td>NaN</td>\n",
       "      <td>NaN</td>\n",
       "      <td>NaN</td>\n",
       "      <td>{'transactionId': 'a9lcj51r', 'orderId': 'vjbdvd', 'paymentMethodId': 'wt07xm68b', 'transactionAmount': 18, 'transactionFailed': False}</td>\n",
       "      <td>{'transactionId': 'y4wcv03i', 'orderId': 'yp6x27', 'paymentMethodId': 'wt07xm68b', 'transactionAmount': 26, 'transactionFailed': False}</td>\n",
       "      <td>NaN</td>\n",
       "      <td>NaN</td>\n",
       "      <td>NaN</td>\n",
       "      <td>NaN</td>\n",
       "      <td>NaN</td>\n",
       "      <td>NaN</td>\n",
       "      <td>NaN</td>\n",
       "      <td>NaN</td>\n",
       "      <td>NaN</td>\n",
       "      <td>NaN</td>\n",
       "      <td>NaN</td>\n",
       "      <td>NaN</td>\n",
       "      <td>NaN</td>\n",
       "    </tr>\n",
       "    <tr>\n",
       "      <th>1</th>\n",
       "      <td>{'customerEmail': 'evansjeffery@yahoo.com', 'customerPhone': '1-788-091-7546', 'customerDevice': 'r0jpm7xaeqqa3kr6mzum', 'customerIPAddress': '219.173.211.202', 'customerBillingAddress': '356 Elizabeth Inlet Suite 120\n",
       "Port Joshuabury, NM 37681'}</td>\n",
       "      <td>True</td>\n",
       "      <td>[{'paymentMethodId': 'y3xp697jx', 'paymentMethodRegistrationFailure': True, 'paymentMethodType': 'bitcoin', 'paymentMethodProvider': 'VISA 16 digit', 'paymentMethodIssuer': 'Solace Banks'}, {'paymentMethodId': '6krszxc05', 'paymentMethodRegistrationFailure': False, 'paymentMethodType': 'card', '...</td>\n",
       "      <td>{'orderId': 'nlghpa', 'orderAmount': 45, 'orderState': 'fulfilled', 'orderShippingAddress': '898 Henry Ports\n",
       "New Keithview, CA 95893-2497'}</td>\n",
       "      <td>{'orderId': 'uw0eeb', 'orderAmount': 23, 'orderState': 'fulfilled', 'orderShippingAddress': '356 Elizabeth Inlet Suite 120\n",
       "Port Joshuabury, NM 37681'}</td>\n",
       "      <td>{'orderId': 'bn44oh', 'orderAmount': 43, 'orderState': 'fulfilled', 'orderShippingAddress': '5093 Bryan Forks\n",
       "Joshuaton, FM 01565-9801'}</td>\n",
       "      <td>NaN</td>\n",
       "      <td>NaN</td>\n",
       "      <td>NaN</td>\n",
       "      <td>NaN</td>\n",
       "      <td>NaN</td>\n",
       "      <td>{'transactionId': '5mi94sfw', 'orderId': 'nlghpa', 'paymentMethodId': '41ug157xz', 'transactionAmount': 45, 'transactionFailed': False}</td>\n",
       "      <td>{'transactionId': 'br8ba1nu', 'orderId': 'uw0eeb', 'paymentMethodId': '41ug157xz', 'transactionAmount': 23, 'transactionFailed': False}</td>\n",
       "      <td>{'transactionId': 'a33145ss', 'orderId': 'bn44oh', 'paymentMethodId': 'y3xp697jx', 'transactionAmount': 43, 'transactionFailed': True}</td>\n",
       "      <td>NaN</td>\n",
       "      <td>NaN</td>\n",
       "      <td>NaN</td>\n",
       "      <td>NaN</td>\n",
       "      <td>NaN</td>\n",
       "      <td>NaN</td>\n",
       "      <td>NaN</td>\n",
       "      <td>NaN</td>\n",
       "      <td>NaN</td>\n",
       "      <td>NaN</td>\n",
       "      <td>NaN</td>\n",
       "      <td>NaN</td>\n",
       "    </tr>\n",
       "    <tr>\n",
       "      <th>2</th>\n",
       "      <td>{'customerEmail': 'andersonwilliam@yahoo.com', 'customerPhone': '024.420.0375', 'customerDevice': '4m7h5ipl1shyavt6vv2r', 'customerIPAddress': '67b7:3db8:67e0:3bea:b9d0:90c1:2b60:b9f0', 'customerBillingAddress': '8478 Sean Ridges Apt. 441\n",
       "Davisberg, PR 72250'}</td>\n",
       "      <td>False</td>\n",
       "      <td>[{'paymentMethodId': '8pneoi03z', 'paymentMethodRegistrationFailure': False, 'paymentMethodType': 'card', 'paymentMethodProvider': 'JCB 16 digit', 'paymentMethodIssuer': 'Bastion Banks'}, {'paymentMethodId': 'dluy3jka0', 'paymentMethodRegistrationFailure': False, 'paymentMethodType': 'card', 'pa...</td>\n",
       "      <td>{'orderId': 'yk34y2', 'orderAmount': 33, 'orderState': 'failed', 'orderShippingAddress': '8478 Sean Ridges Apt. 441\n",
       "Davisberg, PR 72250'}</td>\n",
       "      <td>{'orderId': '28v6b0', 'orderAmount': 24, 'orderState': 'fulfilled', 'orderShippingAddress': '8478 Sean Ridges Apt. 441\n",
       "Davisberg, PR 72250'}</td>\n",
       "      <td>{'orderId': 'itnk8y', 'orderAmount': 25, 'orderState': 'fulfilled', 'orderShippingAddress': '22396 Victor Lights\n",
       "Carsonstad, MO 93914'}</td>\n",
       "      <td>NaN</td>\n",
       "      <td>NaN</td>\n",
       "      <td>NaN</td>\n",
       "      <td>NaN</td>\n",
       "      <td>NaN</td>\n",
       "      <td>{'transactionId': 'q3lyvbza', 'orderId': 'yk34y2', 'paymentMethodId': '8pneoi03z', 'transactionAmount': 33, 'transactionFailed': False}</td>\n",
       "      <td>{'transactionId': '3alf9irw', 'orderId': '28v6b0', 'paymentMethodId': '8pneoi03z', 'transactionAmount': 24, 'transactionFailed': True}</td>\n",
       "      <td>{'transactionId': '69w9wymx', 'orderId': '28v6b0', 'paymentMethodId': '8pneoi03z', 'transactionAmount': 24, 'transactionFailed': False}</td>\n",
       "      <td>{'transactionId': 'pegqc4ud', 'orderId': 'itnk8y', 'paymentMethodId': 'dluy3jka0', 'transactionAmount': 25, 'transactionFailed': True}</td>\n",
       "      <td>{'transactionId': 'uo3slwh7', 'orderId': 'itnk8y', 'paymentMethodId': '8pneoi03z', 'transactionAmount': 25, 'transactionFailed': False}</td>\n",
       "      <td>NaN</td>\n",
       "      <td>NaN</td>\n",
       "      <td>NaN</td>\n",
       "      <td>NaN</td>\n",
       "      <td>NaN</td>\n",
       "      <td>NaN</td>\n",
       "      <td>NaN</td>\n",
       "      <td>NaN</td>\n",
       "      <td>NaN</td>\n",
       "      <td>NaN</td>\n",
       "    </tr>\n",
       "  </tbody>\n",
       "</table>\n",
       "</div>"
      ],
      "text/plain": [
       "                                                                                                                                                                                                                                                               customer  \\\n",
       "0                                       {'customerEmail': 'josephhoward@yahoo.com', 'customerPhone': '400-108-5415', 'customerDevice': 'yyeiaxpltf82440jnb3v', 'customerIPAddress': '8.129.104.40', 'customerBillingAddress': '5493 Jones Islands\n",
       "Brownside, CA 51896'}   \n",
       "1                 {'customerEmail': 'evansjeffery@yahoo.com', 'customerPhone': '1-788-091-7546', 'customerDevice': 'r0jpm7xaeqqa3kr6mzum', 'customerIPAddress': '219.173.211.202', 'customerBillingAddress': '356 Elizabeth Inlet Suite 120\n",
       "Port Joshuabury, NM 37681'}   \n",
       "2  {'customerEmail': 'andersonwilliam@yahoo.com', 'customerPhone': '024.420.0375', 'customerDevice': '4m7h5ipl1shyavt6vv2r', 'customerIPAddress': '67b7:3db8:67e0:3bea:b9d0:90c1:2b60:b9f0', 'customerBillingAddress': '8478 Sean Ridges Apt. 441\n",
       "Davisberg, PR 72250'}   \n",
       "\n",
       "   fraudulent  \\\n",
       "0       False   \n",
       "1        True   \n",
       "2       False   \n",
       "\n",
       "                                                                                                                                                                                                                                                                                                paymentMethods  \\\n",
       "0                                                                                                            [{'paymentMethodId': 'wt07xm68b', 'paymentMethodRegistrationFailure': True, 'paymentMethodType': 'card', 'paymentMethodProvider': 'JCB 16 digit', 'paymentMethodIssuer': 'Citizens First Banks'}]   \n",
       "1  [{'paymentMethodId': 'y3xp697jx', 'paymentMethodRegistrationFailure': True, 'paymentMethodType': 'bitcoin', 'paymentMethodProvider': 'VISA 16 digit', 'paymentMethodIssuer': 'Solace Banks'}, {'paymentMethodId': '6krszxc05', 'paymentMethodRegistrationFailure': False, 'paymentMethodType': 'card', '...   \n",
       "2  [{'paymentMethodId': '8pneoi03z', 'paymentMethodRegistrationFailure': False, 'paymentMethodType': 'card', 'paymentMethodProvider': 'JCB 16 digit', 'paymentMethodIssuer': 'Bastion Banks'}, {'paymentMethodId': 'dluy3jka0', 'paymentMethodRegistrationFailure': False, 'paymentMethodType': 'card', 'pa...   \n",
       "\n",
       "                                                                                                                                             0  \\\n",
       "0          {'orderId': 'vjbdvd', 'orderAmount': 18, 'orderState': 'pending', 'orderShippingAddress': '5493 Jones Islands\n",
       "Brownside, CA 51896'}   \n",
       "1  {'orderId': 'nlghpa', 'orderAmount': 45, 'orderState': 'fulfilled', 'orderShippingAddress': '898 Henry Ports\n",
       "New Keithview, CA 95893-2497'}   \n",
       "2    {'orderId': 'yk34y2', 'orderAmount': 33, 'orderState': 'failed', 'orderShippingAddress': '8478 Sean Ridges Apt. 441\n",
       "Davisberg, PR 72250'}   \n",
       "\n",
       "                                                                                                                                                        1  \\\n",
       "0                   {'orderId': 'yp6x27', 'orderAmount': 26, 'orderState': 'fulfilled', 'orderShippingAddress': '5493 Jones Islands\n",
       "Brownside, CA 51896'}   \n",
       "1  {'orderId': 'uw0eeb', 'orderAmount': 23, 'orderState': 'fulfilled', 'orderShippingAddress': '356 Elizabeth Inlet Suite 120\n",
       "Port Joshuabury, NM 37681'}   \n",
       "2            {'orderId': '28v6b0', 'orderAmount': 24, 'orderState': 'fulfilled', 'orderShippingAddress': '8478 Sean Ridges Apt. 441\n",
       "Davisberg, PR 72250'}   \n",
       "\n",
       "                                                                                                                                          2  \\\n",
       "0                                                                                                                                       NaN   \n",
       "1  {'orderId': 'bn44oh', 'orderAmount': 43, 'orderState': 'fulfilled', 'orderShippingAddress': '5093 Bryan Forks\n",
       "Joshuaton, FM 01565-9801'}   \n",
       "2   {'orderId': 'itnk8y', 'orderAmount': 25, 'orderState': 'fulfilled', 'orderShippingAddress': '22396 Victor Lights\n",
       "Carsonstad, MO 93914'}   \n",
       "\n",
       "     3    4    5    6    7  \\\n",
       "0  NaN  NaN  NaN  NaN  NaN   \n",
       "1  NaN  NaN  NaN  NaN  NaN   \n",
       "2  NaN  NaN  NaN  NaN  NaN   \n",
       "\n",
       "                                                                                                                                         0  \\\n",
       "0  {'transactionId': 'a9lcj51r', 'orderId': 'vjbdvd', 'paymentMethodId': 'wt07xm68b', 'transactionAmount': 18, 'transactionFailed': False}   \n",
       "1  {'transactionId': '5mi94sfw', 'orderId': 'nlghpa', 'paymentMethodId': '41ug157xz', 'transactionAmount': 45, 'transactionFailed': False}   \n",
       "2  {'transactionId': 'q3lyvbza', 'orderId': 'yk34y2', 'paymentMethodId': '8pneoi03z', 'transactionAmount': 33, 'transactionFailed': False}   \n",
       "\n",
       "                                                                                                                                         1  \\\n",
       "0  {'transactionId': 'y4wcv03i', 'orderId': 'yp6x27', 'paymentMethodId': 'wt07xm68b', 'transactionAmount': 26, 'transactionFailed': False}   \n",
       "1  {'transactionId': 'br8ba1nu', 'orderId': 'uw0eeb', 'paymentMethodId': '41ug157xz', 'transactionAmount': 23, 'transactionFailed': False}   \n",
       "2   {'transactionId': '3alf9irw', 'orderId': '28v6b0', 'paymentMethodId': '8pneoi03z', 'transactionAmount': 24, 'transactionFailed': True}   \n",
       "\n",
       "                                                                                                                                         2  \\\n",
       "0                                                                                                                                      NaN   \n",
       "1   {'transactionId': 'a33145ss', 'orderId': 'bn44oh', 'paymentMethodId': 'y3xp697jx', 'transactionAmount': 43, 'transactionFailed': True}   \n",
       "2  {'transactionId': '69w9wymx', 'orderId': '28v6b0', 'paymentMethodId': '8pneoi03z', 'transactionAmount': 24, 'transactionFailed': False}   \n",
       "\n",
       "                                                                                                                                        3  \\\n",
       "0                                                                                                                                     NaN   \n",
       "1                                                                                                                                     NaN   \n",
       "2  {'transactionId': 'pegqc4ud', 'orderId': 'itnk8y', 'paymentMethodId': 'dluy3jka0', 'transactionAmount': 25, 'transactionFailed': True}   \n",
       "\n",
       "                                                                                                                                         4  \\\n",
       "0                                                                                                                                      NaN   \n",
       "1                                                                                                                                      NaN   \n",
       "2  {'transactionId': 'uo3slwh7', 'orderId': 'itnk8y', 'paymentMethodId': '8pneoi03z', 'transactionAmount': 25, 'transactionFailed': False}   \n",
       "\n",
       "     5    6    7    8    9   10   11   12   13   14  \n",
       "0  NaN  NaN  NaN  NaN  NaN  NaN  NaN  NaN  NaN  NaN  \n",
       "1  NaN  NaN  NaN  NaN  NaN  NaN  NaN  NaN  NaN  NaN  \n",
       "2  NaN  NaN  NaN  NaN  NaN  NaN  NaN  NaN  NaN  NaN  "
      ]
     },
     "execution_count": 35,
     "metadata": {},
     "output_type": "execute_result"
    }
   ],
   "source": [
    "df3 = pd.concat([df2.drop(['transactions'], axis=1), df2['transactions'].apply(pd.Series)], axis=1)\n",
    "df3.head(3)"
   ]
  },
  {
   "cell_type": "code",
   "execution_count": 36,
   "metadata": {
    "scrolled": false
   },
   "outputs": [
    {
     "data": {
      "text/html": [
       "<div>\n",
       "<style scoped>\n",
       "    .dataframe tbody tr th:only-of-type {\n",
       "        vertical-align: middle;\n",
       "    }\n",
       "\n",
       "    .dataframe tbody tr th {\n",
       "        vertical-align: top;\n",
       "    }\n",
       "\n",
       "    .dataframe thead th {\n",
       "        text-align: right;\n",
       "    }\n",
       "</style>\n",
       "<table border=\"1\" class=\"dataframe\">\n",
       "  <thead>\n",
       "    <tr style=\"text-align: right;\">\n",
       "      <th></th>\n",
       "      <th>customer</th>\n",
       "      <th>fraudulent</th>\n",
       "      <th>0</th>\n",
       "      <th>1</th>\n",
       "      <th>2</th>\n",
       "      <th>3</th>\n",
       "      <th>4</th>\n",
       "      <th>5</th>\n",
       "      <th>6</th>\n",
       "      <th>7</th>\n",
       "      <th>0</th>\n",
       "      <th>1</th>\n",
       "      <th>2</th>\n",
       "      <th>3</th>\n",
       "      <th>4</th>\n",
       "      <th>5</th>\n",
       "      <th>6</th>\n",
       "      <th>7</th>\n",
       "      <th>8</th>\n",
       "      <th>9</th>\n",
       "      <th>10</th>\n",
       "      <th>11</th>\n",
       "      <th>12</th>\n",
       "      <th>13</th>\n",
       "      <th>14</th>\n",
       "      <th>0</th>\n",
       "      <th>1</th>\n",
       "      <th>2</th>\n",
       "      <th>3</th>\n",
       "      <th>4</th>\n",
       "      <th>5</th>\n",
       "      <th>6</th>\n",
       "      <th>7</th>\n",
       "      <th>8</th>\n",
       "      <th>9</th>\n",
       "      <th>10</th>\n",
       "      <th>11</th>\n",
       "      <th>12</th>\n",
       "      <th>13</th>\n",
       "      <th>14</th>\n",
       "    </tr>\n",
       "  </thead>\n",
       "  <tbody>\n",
       "    <tr>\n",
       "      <th>0</th>\n",
       "      <td>{'customerEmail': 'josephhoward@yahoo.com', 'customerPhone': '400-108-5415', 'customerDevice': 'yyeiaxpltf82440jnb3v', 'customerIPAddress': '8.129.104.40', 'customerBillingAddress': '5493 Jones Islands\n",
       "Brownside, CA 51896'}</td>\n",
       "      <td>False</td>\n",
       "      <td>{'orderId': 'vjbdvd', 'orderAmount': 18, 'orderState': 'pending', 'orderShippingAddress': '5493 Jones Islands\n",
       "Brownside, CA 51896'}</td>\n",
       "      <td>{'orderId': 'yp6x27', 'orderAmount': 26, 'orderState': 'fulfilled', 'orderShippingAddress': '5493 Jones Islands\n",
       "Brownside, CA 51896'}</td>\n",
       "      <td>NaN</td>\n",
       "      <td>NaN</td>\n",
       "      <td>NaN</td>\n",
       "      <td>NaN</td>\n",
       "      <td>NaN</td>\n",
       "      <td>NaN</td>\n",
       "      <td>{'transactionId': 'a9lcj51r', 'orderId': 'vjbdvd', 'paymentMethodId': 'wt07xm68b', 'transactionAmount': 18, 'transactionFailed': False}</td>\n",
       "      <td>{'transactionId': 'y4wcv03i', 'orderId': 'yp6x27', 'paymentMethodId': 'wt07xm68b', 'transactionAmount': 26, 'transactionFailed': False}</td>\n",
       "      <td>NaN</td>\n",
       "      <td>NaN</td>\n",
       "      <td>NaN</td>\n",
       "      <td>NaN</td>\n",
       "      <td>NaN</td>\n",
       "      <td>NaN</td>\n",
       "      <td>NaN</td>\n",
       "      <td>NaN</td>\n",
       "      <td>NaN</td>\n",
       "      <td>NaN</td>\n",
       "      <td>NaN</td>\n",
       "      <td>NaN</td>\n",
       "      <td>NaN</td>\n",
       "      <td>{'paymentMethodId': 'wt07xm68b', 'paymentMethodRegistrationFailure': True, 'paymentMethodType': 'card', 'paymentMethodProvider': 'JCB 16 digit', 'paymentMethodIssuer': 'Citizens First Banks'}</td>\n",
       "      <td>NaN</td>\n",
       "      <td>NaN</td>\n",
       "      <td>NaN</td>\n",
       "      <td>NaN</td>\n",
       "      <td>NaN</td>\n",
       "      <td>NaN</td>\n",
       "      <td>NaN</td>\n",
       "      <td>NaN</td>\n",
       "      <td>NaN</td>\n",
       "      <td>NaN</td>\n",
       "      <td>NaN</td>\n",
       "      <td>NaN</td>\n",
       "      <td>NaN</td>\n",
       "      <td>NaN</td>\n",
       "    </tr>\n",
       "    <tr>\n",
       "      <th>1</th>\n",
       "      <td>{'customerEmail': 'evansjeffery@yahoo.com', 'customerPhone': '1-788-091-7546', 'customerDevice': 'r0jpm7xaeqqa3kr6mzum', 'customerIPAddress': '219.173.211.202', 'customerBillingAddress': '356 Elizabeth Inlet Suite 120\n",
       "Port Joshuabury, NM 37681'}</td>\n",
       "      <td>True</td>\n",
       "      <td>{'orderId': 'nlghpa', 'orderAmount': 45, 'orderState': 'fulfilled', 'orderShippingAddress': '898 Henry Ports\n",
       "New Keithview, CA 95893-2497'}</td>\n",
       "      <td>{'orderId': 'uw0eeb', 'orderAmount': 23, 'orderState': 'fulfilled', 'orderShippingAddress': '356 Elizabeth Inlet Suite 120\n",
       "Port Joshuabury, NM 37681'}</td>\n",
       "      <td>{'orderId': 'bn44oh', 'orderAmount': 43, 'orderState': 'fulfilled', 'orderShippingAddress': '5093 Bryan Forks\n",
       "Joshuaton, FM 01565-9801'}</td>\n",
       "      <td>NaN</td>\n",
       "      <td>NaN</td>\n",
       "      <td>NaN</td>\n",
       "      <td>NaN</td>\n",
       "      <td>NaN</td>\n",
       "      <td>{'transactionId': '5mi94sfw', 'orderId': 'nlghpa', 'paymentMethodId': '41ug157xz', 'transactionAmount': 45, 'transactionFailed': False}</td>\n",
       "      <td>{'transactionId': 'br8ba1nu', 'orderId': 'uw0eeb', 'paymentMethodId': '41ug157xz', 'transactionAmount': 23, 'transactionFailed': False}</td>\n",
       "      <td>{'transactionId': 'a33145ss', 'orderId': 'bn44oh', 'paymentMethodId': 'y3xp697jx', 'transactionAmount': 43, 'transactionFailed': True}</td>\n",
       "      <td>NaN</td>\n",
       "      <td>NaN</td>\n",
       "      <td>NaN</td>\n",
       "      <td>NaN</td>\n",
       "      <td>NaN</td>\n",
       "      <td>NaN</td>\n",
       "      <td>NaN</td>\n",
       "      <td>NaN</td>\n",
       "      <td>NaN</td>\n",
       "      <td>NaN</td>\n",
       "      <td>NaN</td>\n",
       "      <td>NaN</td>\n",
       "      <td>{'paymentMethodId': 'y3xp697jx', 'paymentMethodRegistrationFailure': True, 'paymentMethodType': 'bitcoin', 'paymentMethodProvider': 'VISA 16 digit', 'paymentMethodIssuer': 'Solace Banks'}</td>\n",
       "      <td>{'paymentMethodId': '6krszxc05', 'paymentMethodRegistrationFailure': False, 'paymentMethodType': 'card', 'paymentMethodProvider': 'VISA 16 digit', 'paymentMethodIssuer': 'Vertex Bancorp'}</td>\n",
       "      <td>{'paymentMethodId': '5z1szj2he', 'paymentMethodRegistrationFailure': False, 'paymentMethodType': 'card', 'paymentMethodProvider': 'Diners Club / Carte Blanche', 'paymentMethodIssuer': 'His Majesty Bank Corp.'}</td>\n",
       "      <td>{'paymentMethodId': 'm52tx8e1s', 'paymentMethodRegistrationFailure': False, 'paymentMethodType': 'card', 'paymentMethodProvider': 'Mastercard', 'paymentMethodIssuer': 'Vertex Bancorp'}</td>\n",
       "      <td>{'paymentMethodId': '41ug157xz', 'paymentMethodRegistrationFailure': False, 'paymentMethodType': 'bitcoin', 'paymentMethodProvider': 'American Express', 'paymentMethodIssuer': 'Bastion Banks'}</td>\n",
       "      <td>{'paymentMethodId': '4dpg5sx2b', 'paymentMethodRegistrationFailure': False, 'paymentMethodType': 'card', 'paymentMethodProvider': 'Maestro', 'paymentMethodIssuer': 'Her Majesty Trust'}</td>\n",
       "      <td>{'paymentMethodId': 'bcx9pa3wf', 'paymentMethodRegistrationFailure': False, 'paymentMethodType': 'card', 'paymentMethodProvider': 'JCB 16 digit', 'paymentMethodIssuer': 'Fountain Financial Inc.'}</td>\n",
       "      <td>NaN</td>\n",
       "      <td>NaN</td>\n",
       "      <td>NaN</td>\n",
       "      <td>NaN</td>\n",
       "      <td>NaN</td>\n",
       "      <td>NaN</td>\n",
       "      <td>NaN</td>\n",
       "      <td>NaN</td>\n",
       "    </tr>\n",
       "    <tr>\n",
       "      <th>2</th>\n",
       "      <td>{'customerEmail': 'andersonwilliam@yahoo.com', 'customerPhone': '024.420.0375', 'customerDevice': '4m7h5ipl1shyavt6vv2r', 'customerIPAddress': '67b7:3db8:67e0:3bea:b9d0:90c1:2b60:b9f0', 'customerBillingAddress': '8478 Sean Ridges Apt. 441\n",
       "Davisberg, PR 72250'}</td>\n",
       "      <td>False</td>\n",
       "      <td>{'orderId': 'yk34y2', 'orderAmount': 33, 'orderState': 'failed', 'orderShippingAddress': '8478 Sean Ridges Apt. 441\n",
       "Davisberg, PR 72250'}</td>\n",
       "      <td>{'orderId': '28v6b0', 'orderAmount': 24, 'orderState': 'fulfilled', 'orderShippingAddress': '8478 Sean Ridges Apt. 441\n",
       "Davisberg, PR 72250'}</td>\n",
       "      <td>{'orderId': 'itnk8y', 'orderAmount': 25, 'orderState': 'fulfilled', 'orderShippingAddress': '22396 Victor Lights\n",
       "Carsonstad, MO 93914'}</td>\n",
       "      <td>NaN</td>\n",
       "      <td>NaN</td>\n",
       "      <td>NaN</td>\n",
       "      <td>NaN</td>\n",
       "      <td>NaN</td>\n",
       "      <td>{'transactionId': 'q3lyvbza', 'orderId': 'yk34y2', 'paymentMethodId': '8pneoi03z', 'transactionAmount': 33, 'transactionFailed': False}</td>\n",
       "      <td>{'transactionId': '3alf9irw', 'orderId': '28v6b0', 'paymentMethodId': '8pneoi03z', 'transactionAmount': 24, 'transactionFailed': True}</td>\n",
       "      <td>{'transactionId': '69w9wymx', 'orderId': '28v6b0', 'paymentMethodId': '8pneoi03z', 'transactionAmount': 24, 'transactionFailed': False}</td>\n",
       "      <td>{'transactionId': 'pegqc4ud', 'orderId': 'itnk8y', 'paymentMethodId': 'dluy3jka0', 'transactionAmount': 25, 'transactionFailed': True}</td>\n",
       "      <td>{'transactionId': 'uo3slwh7', 'orderId': 'itnk8y', 'paymentMethodId': '8pneoi03z', 'transactionAmount': 25, 'transactionFailed': False}</td>\n",
       "      <td>NaN</td>\n",
       "      <td>NaN</td>\n",
       "      <td>NaN</td>\n",
       "      <td>NaN</td>\n",
       "      <td>NaN</td>\n",
       "      <td>NaN</td>\n",
       "      <td>NaN</td>\n",
       "      <td>NaN</td>\n",
       "      <td>NaN</td>\n",
       "      <td>NaN</td>\n",
       "      <td>{'paymentMethodId': '8pneoi03z', 'paymentMethodRegistrationFailure': False, 'paymentMethodType': 'card', 'paymentMethodProvider': 'JCB 16 digit', 'paymentMethodIssuer': 'Bastion Banks'}</td>\n",
       "      <td>{'paymentMethodId': 'dluy3jka0', 'paymentMethodRegistrationFailure': False, 'paymentMethodType': 'card', 'paymentMethodProvider': 'Discover', 'paymentMethodIssuer': 'His Majesty Bank Corp.'}</td>\n",
       "      <td>NaN</td>\n",
       "      <td>NaN</td>\n",
       "      <td>NaN</td>\n",
       "      <td>NaN</td>\n",
       "      <td>NaN</td>\n",
       "      <td>NaN</td>\n",
       "      <td>NaN</td>\n",
       "      <td>NaN</td>\n",
       "      <td>NaN</td>\n",
       "      <td>NaN</td>\n",
       "      <td>NaN</td>\n",
       "      <td>NaN</td>\n",
       "      <td>NaN</td>\n",
       "    </tr>\n",
       "  </tbody>\n",
       "</table>\n",
       "</div>"
      ],
      "text/plain": [
       "                                                                                                                                                                                                                                                               customer  \\\n",
       "0                                       {'customerEmail': 'josephhoward@yahoo.com', 'customerPhone': '400-108-5415', 'customerDevice': 'yyeiaxpltf82440jnb3v', 'customerIPAddress': '8.129.104.40', 'customerBillingAddress': '5493 Jones Islands\n",
       "Brownside, CA 51896'}   \n",
       "1                 {'customerEmail': 'evansjeffery@yahoo.com', 'customerPhone': '1-788-091-7546', 'customerDevice': 'r0jpm7xaeqqa3kr6mzum', 'customerIPAddress': '219.173.211.202', 'customerBillingAddress': '356 Elizabeth Inlet Suite 120\n",
       "Port Joshuabury, NM 37681'}   \n",
       "2  {'customerEmail': 'andersonwilliam@yahoo.com', 'customerPhone': '024.420.0375', 'customerDevice': '4m7h5ipl1shyavt6vv2r', 'customerIPAddress': '67b7:3db8:67e0:3bea:b9d0:90c1:2b60:b9f0', 'customerBillingAddress': '8478 Sean Ridges Apt. 441\n",
       "Davisberg, PR 72250'}   \n",
       "\n",
       "   fraudulent  \\\n",
       "0       False   \n",
       "1        True   \n",
       "2       False   \n",
       "\n",
       "                                                                                                                                             0  \\\n",
       "0          {'orderId': 'vjbdvd', 'orderAmount': 18, 'orderState': 'pending', 'orderShippingAddress': '5493 Jones Islands\n",
       "Brownside, CA 51896'}   \n",
       "1  {'orderId': 'nlghpa', 'orderAmount': 45, 'orderState': 'fulfilled', 'orderShippingAddress': '898 Henry Ports\n",
       "New Keithview, CA 95893-2497'}   \n",
       "2    {'orderId': 'yk34y2', 'orderAmount': 33, 'orderState': 'failed', 'orderShippingAddress': '8478 Sean Ridges Apt. 441\n",
       "Davisberg, PR 72250'}   \n",
       "\n",
       "                                                                                                                                                        1  \\\n",
       "0                   {'orderId': 'yp6x27', 'orderAmount': 26, 'orderState': 'fulfilled', 'orderShippingAddress': '5493 Jones Islands\n",
       "Brownside, CA 51896'}   \n",
       "1  {'orderId': 'uw0eeb', 'orderAmount': 23, 'orderState': 'fulfilled', 'orderShippingAddress': '356 Elizabeth Inlet Suite 120\n",
       "Port Joshuabury, NM 37681'}   \n",
       "2            {'orderId': '28v6b0', 'orderAmount': 24, 'orderState': 'fulfilled', 'orderShippingAddress': '8478 Sean Ridges Apt. 441\n",
       "Davisberg, PR 72250'}   \n",
       "\n",
       "                                                                                                                                          2  \\\n",
       "0                                                                                                                                       NaN   \n",
       "1  {'orderId': 'bn44oh', 'orderAmount': 43, 'orderState': 'fulfilled', 'orderShippingAddress': '5093 Bryan Forks\n",
       "Joshuaton, FM 01565-9801'}   \n",
       "2   {'orderId': 'itnk8y', 'orderAmount': 25, 'orderState': 'fulfilled', 'orderShippingAddress': '22396 Victor Lights\n",
       "Carsonstad, MO 93914'}   \n",
       "\n",
       "     3    4    5    6    7  \\\n",
       "0  NaN  NaN  NaN  NaN  NaN   \n",
       "1  NaN  NaN  NaN  NaN  NaN   \n",
       "2  NaN  NaN  NaN  NaN  NaN   \n",
       "\n",
       "                                                                                                                                         0  \\\n",
       "0  {'transactionId': 'a9lcj51r', 'orderId': 'vjbdvd', 'paymentMethodId': 'wt07xm68b', 'transactionAmount': 18, 'transactionFailed': False}   \n",
       "1  {'transactionId': '5mi94sfw', 'orderId': 'nlghpa', 'paymentMethodId': '41ug157xz', 'transactionAmount': 45, 'transactionFailed': False}   \n",
       "2  {'transactionId': 'q3lyvbza', 'orderId': 'yk34y2', 'paymentMethodId': '8pneoi03z', 'transactionAmount': 33, 'transactionFailed': False}   \n",
       "\n",
       "                                                                                                                                         1  \\\n",
       "0  {'transactionId': 'y4wcv03i', 'orderId': 'yp6x27', 'paymentMethodId': 'wt07xm68b', 'transactionAmount': 26, 'transactionFailed': False}   \n",
       "1  {'transactionId': 'br8ba1nu', 'orderId': 'uw0eeb', 'paymentMethodId': '41ug157xz', 'transactionAmount': 23, 'transactionFailed': False}   \n",
       "2   {'transactionId': '3alf9irw', 'orderId': '28v6b0', 'paymentMethodId': '8pneoi03z', 'transactionAmount': 24, 'transactionFailed': True}   \n",
       "\n",
       "                                                                                                                                         2  \\\n",
       "0                                                                                                                                      NaN   \n",
       "1   {'transactionId': 'a33145ss', 'orderId': 'bn44oh', 'paymentMethodId': 'y3xp697jx', 'transactionAmount': 43, 'transactionFailed': True}   \n",
       "2  {'transactionId': '69w9wymx', 'orderId': '28v6b0', 'paymentMethodId': '8pneoi03z', 'transactionAmount': 24, 'transactionFailed': False}   \n",
       "\n",
       "                                                                                                                                        3  \\\n",
       "0                                                                                                                                     NaN   \n",
       "1                                                                                                                                     NaN   \n",
       "2  {'transactionId': 'pegqc4ud', 'orderId': 'itnk8y', 'paymentMethodId': 'dluy3jka0', 'transactionAmount': 25, 'transactionFailed': True}   \n",
       "\n",
       "                                                                                                                                         4  \\\n",
       "0                                                                                                                                      NaN   \n",
       "1                                                                                                                                      NaN   \n",
       "2  {'transactionId': 'uo3slwh7', 'orderId': 'itnk8y', 'paymentMethodId': '8pneoi03z', 'transactionAmount': 25, 'transactionFailed': False}   \n",
       "\n",
       "     5    6    7    8    9   10   11   12   13   14  \\\n",
       "0  NaN  NaN  NaN  NaN  NaN  NaN  NaN  NaN  NaN  NaN   \n",
       "1  NaN  NaN  NaN  NaN  NaN  NaN  NaN  NaN  NaN  NaN   \n",
       "2  NaN  NaN  NaN  NaN  NaN  NaN  NaN  NaN  NaN  NaN   \n",
       "\n",
       "                                                                                                                                                                                                 0  \\\n",
       "0  {'paymentMethodId': 'wt07xm68b', 'paymentMethodRegistrationFailure': True, 'paymentMethodType': 'card', 'paymentMethodProvider': 'JCB 16 digit', 'paymentMethodIssuer': 'Citizens First Banks'}   \n",
       "1      {'paymentMethodId': 'y3xp697jx', 'paymentMethodRegistrationFailure': True, 'paymentMethodType': 'bitcoin', 'paymentMethodProvider': 'VISA 16 digit', 'paymentMethodIssuer': 'Solace Banks'}   \n",
       "2        {'paymentMethodId': '8pneoi03z', 'paymentMethodRegistrationFailure': False, 'paymentMethodType': 'card', 'paymentMethodProvider': 'JCB 16 digit', 'paymentMethodIssuer': 'Bastion Banks'}   \n",
       "\n",
       "                                                                                                                                                                                                1  \\\n",
       "0                                                                                                                                                                                             NaN   \n",
       "1     {'paymentMethodId': '6krszxc05', 'paymentMethodRegistrationFailure': False, 'paymentMethodType': 'card', 'paymentMethodProvider': 'VISA 16 digit', 'paymentMethodIssuer': 'Vertex Bancorp'}   \n",
       "2  {'paymentMethodId': 'dluy3jka0', 'paymentMethodRegistrationFailure': False, 'paymentMethodType': 'card', 'paymentMethodProvider': 'Discover', 'paymentMethodIssuer': 'His Majesty Bank Corp.'}   \n",
       "\n",
       "                                                                                                                                                                                                                   2  \\\n",
       "0                                                                                                                                                                                                                NaN   \n",
       "1  {'paymentMethodId': '5z1szj2he', 'paymentMethodRegistrationFailure': False, 'paymentMethodType': 'card', 'paymentMethodProvider': 'Diners Club / Carte Blanche', 'paymentMethodIssuer': 'His Majesty Bank Corp.'}   \n",
       "2                                                                                                                                                                                                                NaN   \n",
       "\n",
       "                                                                                                                                                                                          3  \\\n",
       "0                                                                                                                                                                                       NaN   \n",
       "1  {'paymentMethodId': 'm52tx8e1s', 'paymentMethodRegistrationFailure': False, 'paymentMethodType': 'card', 'paymentMethodProvider': 'Mastercard', 'paymentMethodIssuer': 'Vertex Bancorp'}   \n",
       "2                                                                                                                                                                                       NaN   \n",
       "\n",
       "                                                                                                                                                                                                  4  \\\n",
       "0                                                                                                                                                                                               NaN   \n",
       "1  {'paymentMethodId': '41ug157xz', 'paymentMethodRegistrationFailure': False, 'paymentMethodType': 'bitcoin', 'paymentMethodProvider': 'American Express', 'paymentMethodIssuer': 'Bastion Banks'}   \n",
       "2                                                                                                                                                                                               NaN   \n",
       "\n",
       "                                                                                                                                                                                          5  \\\n",
       "0                                                                                                                                                                                       NaN   \n",
       "1  {'paymentMethodId': '4dpg5sx2b', 'paymentMethodRegistrationFailure': False, 'paymentMethodType': 'card', 'paymentMethodProvider': 'Maestro', 'paymentMethodIssuer': 'Her Majesty Trust'}   \n",
       "2                                                                                                                                                                                       NaN   \n",
       "\n",
       "                                                                                                                                                                                                     6  \\\n",
       "0                                                                                                                                                                                                  NaN   \n",
       "1  {'paymentMethodId': 'bcx9pa3wf', 'paymentMethodRegistrationFailure': False, 'paymentMethodType': 'card', 'paymentMethodProvider': 'JCB 16 digit', 'paymentMethodIssuer': 'Fountain Financial Inc.'}   \n",
       "2                                                                                                                                                                                                  NaN   \n",
       "\n",
       "     7    8    9   10   11   12   13   14  \n",
       "0  NaN  NaN  NaN  NaN  NaN  NaN  NaN  NaN  \n",
       "1  NaN  NaN  NaN  NaN  NaN  NaN  NaN  NaN  \n",
       "2  NaN  NaN  NaN  NaN  NaN  NaN  NaN  NaN  "
      ]
     },
     "execution_count": 36,
     "metadata": {},
     "output_type": "execute_result"
    }
   ],
   "source": [
    "df4 = pd.concat([df3.drop(['paymentMethods'], axis=1), df3['paymentMethods'].apply(pd.Series)], axis=1)\n",
    "df4.head(3)"
   ]
  },
  {
   "cell_type": "code",
   "execution_count": 37,
   "metadata": {
    "scrolled": false
   },
   "outputs": [
    {
     "data": {
      "text/html": [
       "<div>\n",
       "<style scoped>\n",
       "    .dataframe tbody tr th:only-of-type {\n",
       "        vertical-align: middle;\n",
       "    }\n",
       "\n",
       "    .dataframe tbody tr th {\n",
       "        vertical-align: top;\n",
       "    }\n",
       "\n",
       "    .dataframe thead th {\n",
       "        text-align: right;\n",
       "    }\n",
       "</style>\n",
       "<table border=\"1\" class=\"dataframe\">\n",
       "  <thead>\n",
       "    <tr style=\"text-align: right;\">\n",
       "      <th></th>\n",
       "      <th>customer</th>\n",
       "      <th>fraudulent</th>\n",
       "      <th>order1</th>\n",
       "      <th>order2</th>\n",
       "      <th>order3</th>\n",
       "      <th>order4</th>\n",
       "      <th>order5</th>\n",
       "      <th>order6</th>\n",
       "      <th>order7</th>\n",
       "      <th>order8</th>\n",
       "      <th>transaction1</th>\n",
       "      <th>transaction2</th>\n",
       "      <th>transaction3</th>\n",
       "      <th>transaction4</th>\n",
       "      <th>transaction5</th>\n",
       "      <th>transaction6</th>\n",
       "      <th>transaction7</th>\n",
       "      <th>transaction8</th>\n",
       "      <th>transaction9</th>\n",
       "      <th>transaction10</th>\n",
       "      <th>transaction11</th>\n",
       "      <th>transaction12</th>\n",
       "      <th>transaction13</th>\n",
       "      <th>transaction14</th>\n",
       "      <th>transaction15</th>\n",
       "      <th>paymentmethod1</th>\n",
       "      <th>paymentmethod2</th>\n",
       "      <th>paymentmethod3</th>\n",
       "      <th>paymentmethod4</th>\n",
       "      <th>paymentmethod5</th>\n",
       "      <th>paymentmethod6</th>\n",
       "      <th>paymentmethod7</th>\n",
       "      <th>paymentmethod8</th>\n",
       "      <th>paymentmethod9</th>\n",
       "      <th>paymentmethod10</th>\n",
       "      <th>paymentmethod11</th>\n",
       "      <th>paymentmethod12</th>\n",
       "      <th>paymentmethod13</th>\n",
       "      <th>paymentmethod14</th>\n",
       "      <th>paymentmethod15</th>\n",
       "    </tr>\n",
       "  </thead>\n",
       "  <tbody>\n",
       "    <tr>\n",
       "      <th>0</th>\n",
       "      <td>{'customerEmail': 'josephhoward@yahoo.com', 'customerPhone': '400-108-5415', 'customerDevice': 'yyeiaxpltf82440jnb3v', 'customerIPAddress': '8.129.104.40', 'customerBillingAddress': '5493 Jones Islands\n",
       "Brownside, CA 51896'}</td>\n",
       "      <td>False</td>\n",
       "      <td>{'orderId': 'vjbdvd', 'orderAmount': 18, 'orderState': 'pending', 'orderShippingAddress': '5493 Jones Islands\n",
       "Brownside, CA 51896'}</td>\n",
       "      <td>{'orderId': 'yp6x27', 'orderAmount': 26, 'orderState': 'fulfilled', 'orderShippingAddress': '5493 Jones Islands\n",
       "Brownside, CA 51896'}</td>\n",
       "      <td>NaN</td>\n",
       "      <td>NaN</td>\n",
       "      <td>NaN</td>\n",
       "      <td>NaN</td>\n",
       "      <td>NaN</td>\n",
       "      <td>NaN</td>\n",
       "      <td>{'transactionId': 'a9lcj51r', 'orderId': 'vjbdvd', 'paymentMethodId': 'wt07xm68b', 'transactionAmount': 18, 'transactionFailed': False}</td>\n",
       "      <td>{'transactionId': 'y4wcv03i', 'orderId': 'yp6x27', 'paymentMethodId': 'wt07xm68b', 'transactionAmount': 26, 'transactionFailed': False}</td>\n",
       "      <td>NaN</td>\n",
       "      <td>NaN</td>\n",
       "      <td>NaN</td>\n",
       "      <td>NaN</td>\n",
       "      <td>NaN</td>\n",
       "      <td>NaN</td>\n",
       "      <td>NaN</td>\n",
       "      <td>NaN</td>\n",
       "      <td>NaN</td>\n",
       "      <td>NaN</td>\n",
       "      <td>NaN</td>\n",
       "      <td>NaN</td>\n",
       "      <td>NaN</td>\n",
       "      <td>{'paymentMethodId': 'wt07xm68b', 'paymentMethodRegistrationFailure': True, 'paymentMethodType': 'card', 'paymentMethodProvider': 'JCB 16 digit', 'paymentMethodIssuer': 'Citizens First Banks'}</td>\n",
       "      <td>NaN</td>\n",
       "      <td>NaN</td>\n",
       "      <td>NaN</td>\n",
       "      <td>NaN</td>\n",
       "      <td>NaN</td>\n",
       "      <td>NaN</td>\n",
       "      <td>NaN</td>\n",
       "      <td>NaN</td>\n",
       "      <td>NaN</td>\n",
       "      <td>NaN</td>\n",
       "      <td>NaN</td>\n",
       "      <td>NaN</td>\n",
       "      <td>NaN</td>\n",
       "      <td>NaN</td>\n",
       "    </tr>\n",
       "    <tr>\n",
       "      <th>1</th>\n",
       "      <td>{'customerEmail': 'evansjeffery@yahoo.com', 'customerPhone': '1-788-091-7546', 'customerDevice': 'r0jpm7xaeqqa3kr6mzum', 'customerIPAddress': '219.173.211.202', 'customerBillingAddress': '356 Elizabeth Inlet Suite 120\n",
       "Port Joshuabury, NM 37681'}</td>\n",
       "      <td>True</td>\n",
       "      <td>{'orderId': 'nlghpa', 'orderAmount': 45, 'orderState': 'fulfilled', 'orderShippingAddress': '898 Henry Ports\n",
       "New Keithview, CA 95893-2497'}</td>\n",
       "      <td>{'orderId': 'uw0eeb', 'orderAmount': 23, 'orderState': 'fulfilled', 'orderShippingAddress': '356 Elizabeth Inlet Suite 120\n",
       "Port Joshuabury, NM 37681'}</td>\n",
       "      <td>{'orderId': 'bn44oh', 'orderAmount': 43, 'orderState': 'fulfilled', 'orderShippingAddress': '5093 Bryan Forks\n",
       "Joshuaton, FM 01565-9801'}</td>\n",
       "      <td>NaN</td>\n",
       "      <td>NaN</td>\n",
       "      <td>NaN</td>\n",
       "      <td>NaN</td>\n",
       "      <td>NaN</td>\n",
       "      <td>{'transactionId': '5mi94sfw', 'orderId': 'nlghpa', 'paymentMethodId': '41ug157xz', 'transactionAmount': 45, 'transactionFailed': False}</td>\n",
       "      <td>{'transactionId': 'br8ba1nu', 'orderId': 'uw0eeb', 'paymentMethodId': '41ug157xz', 'transactionAmount': 23, 'transactionFailed': False}</td>\n",
       "      <td>{'transactionId': 'a33145ss', 'orderId': 'bn44oh', 'paymentMethodId': 'y3xp697jx', 'transactionAmount': 43, 'transactionFailed': True}</td>\n",
       "      <td>NaN</td>\n",
       "      <td>NaN</td>\n",
       "      <td>NaN</td>\n",
       "      <td>NaN</td>\n",
       "      <td>NaN</td>\n",
       "      <td>NaN</td>\n",
       "      <td>NaN</td>\n",
       "      <td>NaN</td>\n",
       "      <td>NaN</td>\n",
       "      <td>NaN</td>\n",
       "      <td>NaN</td>\n",
       "      <td>NaN</td>\n",
       "      <td>{'paymentMethodId': 'y3xp697jx', 'paymentMethodRegistrationFailure': True, 'paymentMethodType': 'bitcoin', 'paymentMethodProvider': 'VISA 16 digit', 'paymentMethodIssuer': 'Solace Banks'}</td>\n",
       "      <td>{'paymentMethodId': '6krszxc05', 'paymentMethodRegistrationFailure': False, 'paymentMethodType': 'card', 'paymentMethodProvider': 'VISA 16 digit', 'paymentMethodIssuer': 'Vertex Bancorp'}</td>\n",
       "      <td>{'paymentMethodId': '5z1szj2he', 'paymentMethodRegistrationFailure': False, 'paymentMethodType': 'card', 'paymentMethodProvider': 'Diners Club / Carte Blanche', 'paymentMethodIssuer': 'His Majesty Bank Corp.'}</td>\n",
       "      <td>{'paymentMethodId': 'm52tx8e1s', 'paymentMethodRegistrationFailure': False, 'paymentMethodType': 'card', 'paymentMethodProvider': 'Mastercard', 'paymentMethodIssuer': 'Vertex Bancorp'}</td>\n",
       "      <td>{'paymentMethodId': '41ug157xz', 'paymentMethodRegistrationFailure': False, 'paymentMethodType': 'bitcoin', 'paymentMethodProvider': 'American Express', 'paymentMethodIssuer': 'Bastion Banks'}</td>\n",
       "      <td>{'paymentMethodId': '4dpg5sx2b', 'paymentMethodRegistrationFailure': False, 'paymentMethodType': 'card', 'paymentMethodProvider': 'Maestro', 'paymentMethodIssuer': 'Her Majesty Trust'}</td>\n",
       "      <td>{'paymentMethodId': 'bcx9pa3wf', 'paymentMethodRegistrationFailure': False, 'paymentMethodType': 'card', 'paymentMethodProvider': 'JCB 16 digit', 'paymentMethodIssuer': 'Fountain Financial Inc.'}</td>\n",
       "      <td>NaN</td>\n",
       "      <td>NaN</td>\n",
       "      <td>NaN</td>\n",
       "      <td>NaN</td>\n",
       "      <td>NaN</td>\n",
       "      <td>NaN</td>\n",
       "      <td>NaN</td>\n",
       "      <td>NaN</td>\n",
       "    </tr>\n",
       "    <tr>\n",
       "      <th>2</th>\n",
       "      <td>{'customerEmail': 'andersonwilliam@yahoo.com', 'customerPhone': '024.420.0375', 'customerDevice': '4m7h5ipl1shyavt6vv2r', 'customerIPAddress': '67b7:3db8:67e0:3bea:b9d0:90c1:2b60:b9f0', 'customerBillingAddress': '8478 Sean Ridges Apt. 441\n",
       "Davisberg, PR 72250'}</td>\n",
       "      <td>False</td>\n",
       "      <td>{'orderId': 'yk34y2', 'orderAmount': 33, 'orderState': 'failed', 'orderShippingAddress': '8478 Sean Ridges Apt. 441\n",
       "Davisberg, PR 72250'}</td>\n",
       "      <td>{'orderId': '28v6b0', 'orderAmount': 24, 'orderState': 'fulfilled', 'orderShippingAddress': '8478 Sean Ridges Apt. 441\n",
       "Davisberg, PR 72250'}</td>\n",
       "      <td>{'orderId': 'itnk8y', 'orderAmount': 25, 'orderState': 'fulfilled', 'orderShippingAddress': '22396 Victor Lights\n",
       "Carsonstad, MO 93914'}</td>\n",
       "      <td>NaN</td>\n",
       "      <td>NaN</td>\n",
       "      <td>NaN</td>\n",
       "      <td>NaN</td>\n",
       "      <td>NaN</td>\n",
       "      <td>{'transactionId': 'q3lyvbza', 'orderId': 'yk34y2', 'paymentMethodId': '8pneoi03z', 'transactionAmount': 33, 'transactionFailed': False}</td>\n",
       "      <td>{'transactionId': '3alf9irw', 'orderId': '28v6b0', 'paymentMethodId': '8pneoi03z', 'transactionAmount': 24, 'transactionFailed': True}</td>\n",
       "      <td>{'transactionId': '69w9wymx', 'orderId': '28v6b0', 'paymentMethodId': '8pneoi03z', 'transactionAmount': 24, 'transactionFailed': False}</td>\n",
       "      <td>{'transactionId': 'pegqc4ud', 'orderId': 'itnk8y', 'paymentMethodId': 'dluy3jka0', 'transactionAmount': 25, 'transactionFailed': True}</td>\n",
       "      <td>{'transactionId': 'uo3slwh7', 'orderId': 'itnk8y', 'paymentMethodId': '8pneoi03z', 'transactionAmount': 25, 'transactionFailed': False}</td>\n",
       "      <td>NaN</td>\n",
       "      <td>NaN</td>\n",
       "      <td>NaN</td>\n",
       "      <td>NaN</td>\n",
       "      <td>NaN</td>\n",
       "      <td>NaN</td>\n",
       "      <td>NaN</td>\n",
       "      <td>NaN</td>\n",
       "      <td>NaN</td>\n",
       "      <td>NaN</td>\n",
       "      <td>{'paymentMethodId': '8pneoi03z', 'paymentMethodRegistrationFailure': False, 'paymentMethodType': 'card', 'paymentMethodProvider': 'JCB 16 digit', 'paymentMethodIssuer': 'Bastion Banks'}</td>\n",
       "      <td>{'paymentMethodId': 'dluy3jka0', 'paymentMethodRegistrationFailure': False, 'paymentMethodType': 'card', 'paymentMethodProvider': 'Discover', 'paymentMethodIssuer': 'His Majesty Bank Corp.'}</td>\n",
       "      <td>NaN</td>\n",
       "      <td>NaN</td>\n",
       "      <td>NaN</td>\n",
       "      <td>NaN</td>\n",
       "      <td>NaN</td>\n",
       "      <td>NaN</td>\n",
       "      <td>NaN</td>\n",
       "      <td>NaN</td>\n",
       "      <td>NaN</td>\n",
       "      <td>NaN</td>\n",
       "      <td>NaN</td>\n",
       "      <td>NaN</td>\n",
       "      <td>NaN</td>\n",
       "    </tr>\n",
       "  </tbody>\n",
       "</table>\n",
       "</div>"
      ],
      "text/plain": [
       "                                                                                                                                                                                                                                                               customer  \\\n",
       "0                                       {'customerEmail': 'josephhoward@yahoo.com', 'customerPhone': '400-108-5415', 'customerDevice': 'yyeiaxpltf82440jnb3v', 'customerIPAddress': '8.129.104.40', 'customerBillingAddress': '5493 Jones Islands\n",
       "Brownside, CA 51896'}   \n",
       "1                 {'customerEmail': 'evansjeffery@yahoo.com', 'customerPhone': '1-788-091-7546', 'customerDevice': 'r0jpm7xaeqqa3kr6mzum', 'customerIPAddress': '219.173.211.202', 'customerBillingAddress': '356 Elizabeth Inlet Suite 120\n",
       "Port Joshuabury, NM 37681'}   \n",
       "2  {'customerEmail': 'andersonwilliam@yahoo.com', 'customerPhone': '024.420.0375', 'customerDevice': '4m7h5ipl1shyavt6vv2r', 'customerIPAddress': '67b7:3db8:67e0:3bea:b9d0:90c1:2b60:b9f0', 'customerBillingAddress': '8478 Sean Ridges Apt. 441\n",
       "Davisberg, PR 72250'}   \n",
       "\n",
       "   fraudulent  \\\n",
       "0       False   \n",
       "1        True   \n",
       "2       False   \n",
       "\n",
       "                                                                                                                                        order1  \\\n",
       "0          {'orderId': 'vjbdvd', 'orderAmount': 18, 'orderState': 'pending', 'orderShippingAddress': '5493 Jones Islands\n",
       "Brownside, CA 51896'}   \n",
       "1  {'orderId': 'nlghpa', 'orderAmount': 45, 'orderState': 'fulfilled', 'orderShippingAddress': '898 Henry Ports\n",
       "New Keithview, CA 95893-2497'}   \n",
       "2    {'orderId': 'yk34y2', 'orderAmount': 33, 'orderState': 'failed', 'orderShippingAddress': '8478 Sean Ridges Apt. 441\n",
       "Davisberg, PR 72250'}   \n",
       "\n",
       "                                                                                                                                                   order2  \\\n",
       "0                   {'orderId': 'yp6x27', 'orderAmount': 26, 'orderState': 'fulfilled', 'orderShippingAddress': '5493 Jones Islands\n",
       "Brownside, CA 51896'}   \n",
       "1  {'orderId': 'uw0eeb', 'orderAmount': 23, 'orderState': 'fulfilled', 'orderShippingAddress': '356 Elizabeth Inlet Suite 120\n",
       "Port Joshuabury, NM 37681'}   \n",
       "2            {'orderId': '28v6b0', 'orderAmount': 24, 'orderState': 'fulfilled', 'orderShippingAddress': '8478 Sean Ridges Apt. 441\n",
       "Davisberg, PR 72250'}   \n",
       "\n",
       "                                                                                                                                     order3  \\\n",
       "0                                                                                                                                       NaN   \n",
       "1  {'orderId': 'bn44oh', 'orderAmount': 43, 'orderState': 'fulfilled', 'orderShippingAddress': '5093 Bryan Forks\n",
       "Joshuaton, FM 01565-9801'}   \n",
       "2   {'orderId': 'itnk8y', 'orderAmount': 25, 'orderState': 'fulfilled', 'orderShippingAddress': '22396 Victor Lights\n",
       "Carsonstad, MO 93914'}   \n",
       "\n",
       "  order4 order5 order6 order7 order8  \\\n",
       "0    NaN    NaN    NaN    NaN    NaN   \n",
       "1    NaN    NaN    NaN    NaN    NaN   \n",
       "2    NaN    NaN    NaN    NaN    NaN   \n",
       "\n",
       "                                                                                                                              transaction1  \\\n",
       "0  {'transactionId': 'a9lcj51r', 'orderId': 'vjbdvd', 'paymentMethodId': 'wt07xm68b', 'transactionAmount': 18, 'transactionFailed': False}   \n",
       "1  {'transactionId': '5mi94sfw', 'orderId': 'nlghpa', 'paymentMethodId': '41ug157xz', 'transactionAmount': 45, 'transactionFailed': False}   \n",
       "2  {'transactionId': 'q3lyvbza', 'orderId': 'yk34y2', 'paymentMethodId': '8pneoi03z', 'transactionAmount': 33, 'transactionFailed': False}   \n",
       "\n",
       "                                                                                                                              transaction2  \\\n",
       "0  {'transactionId': 'y4wcv03i', 'orderId': 'yp6x27', 'paymentMethodId': 'wt07xm68b', 'transactionAmount': 26, 'transactionFailed': False}   \n",
       "1  {'transactionId': 'br8ba1nu', 'orderId': 'uw0eeb', 'paymentMethodId': '41ug157xz', 'transactionAmount': 23, 'transactionFailed': False}   \n",
       "2   {'transactionId': '3alf9irw', 'orderId': '28v6b0', 'paymentMethodId': '8pneoi03z', 'transactionAmount': 24, 'transactionFailed': True}   \n",
       "\n",
       "                                                                                                                              transaction3  \\\n",
       "0                                                                                                                                      NaN   \n",
       "1   {'transactionId': 'a33145ss', 'orderId': 'bn44oh', 'paymentMethodId': 'y3xp697jx', 'transactionAmount': 43, 'transactionFailed': True}   \n",
       "2  {'transactionId': '69w9wymx', 'orderId': '28v6b0', 'paymentMethodId': '8pneoi03z', 'transactionAmount': 24, 'transactionFailed': False}   \n",
       "\n",
       "                                                                                                                             transaction4  \\\n",
       "0                                                                                                                                     NaN   \n",
       "1                                                                                                                                     NaN   \n",
       "2  {'transactionId': 'pegqc4ud', 'orderId': 'itnk8y', 'paymentMethodId': 'dluy3jka0', 'transactionAmount': 25, 'transactionFailed': True}   \n",
       "\n",
       "                                                                                                                              transaction5  \\\n",
       "0                                                                                                                                      NaN   \n",
       "1                                                                                                                                      NaN   \n",
       "2  {'transactionId': 'uo3slwh7', 'orderId': 'itnk8y', 'paymentMethodId': '8pneoi03z', 'transactionAmount': 25, 'transactionFailed': False}   \n",
       "\n",
       "  transaction6 transaction7 transaction8 transaction9 transaction10  \\\n",
       "0          NaN          NaN          NaN          NaN           NaN   \n",
       "1          NaN          NaN          NaN          NaN           NaN   \n",
       "2          NaN          NaN          NaN          NaN           NaN   \n",
       "\n",
       "  transaction11 transaction12 transaction13 transaction14 transaction15  \\\n",
       "0           NaN           NaN           NaN           NaN           NaN   \n",
       "1           NaN           NaN           NaN           NaN           NaN   \n",
       "2           NaN           NaN           NaN           NaN           NaN   \n",
       "\n",
       "                                                                                                                                                                                    paymentmethod1  \\\n",
       "0  {'paymentMethodId': 'wt07xm68b', 'paymentMethodRegistrationFailure': True, 'paymentMethodType': 'card', 'paymentMethodProvider': 'JCB 16 digit', 'paymentMethodIssuer': 'Citizens First Banks'}   \n",
       "1      {'paymentMethodId': 'y3xp697jx', 'paymentMethodRegistrationFailure': True, 'paymentMethodType': 'bitcoin', 'paymentMethodProvider': 'VISA 16 digit', 'paymentMethodIssuer': 'Solace Banks'}   \n",
       "2        {'paymentMethodId': '8pneoi03z', 'paymentMethodRegistrationFailure': False, 'paymentMethodType': 'card', 'paymentMethodProvider': 'JCB 16 digit', 'paymentMethodIssuer': 'Bastion Banks'}   \n",
       "\n",
       "                                                                                                                                                                                   paymentmethod2  \\\n",
       "0                                                                                                                                                                                             NaN   \n",
       "1     {'paymentMethodId': '6krszxc05', 'paymentMethodRegistrationFailure': False, 'paymentMethodType': 'card', 'paymentMethodProvider': 'VISA 16 digit', 'paymentMethodIssuer': 'Vertex Bancorp'}   \n",
       "2  {'paymentMethodId': 'dluy3jka0', 'paymentMethodRegistrationFailure': False, 'paymentMethodType': 'card', 'paymentMethodProvider': 'Discover', 'paymentMethodIssuer': 'His Majesty Bank Corp.'}   \n",
       "\n",
       "                                                                                                                                                                                                      paymentmethod3  \\\n",
       "0                                                                                                                                                                                                                NaN   \n",
       "1  {'paymentMethodId': '5z1szj2he', 'paymentMethodRegistrationFailure': False, 'paymentMethodType': 'card', 'paymentMethodProvider': 'Diners Club / Carte Blanche', 'paymentMethodIssuer': 'His Majesty Bank Corp.'}   \n",
       "2                                                                                                                                                                                                                NaN   \n",
       "\n",
       "                                                                                                                                                                             paymentmethod4  \\\n",
       "0                                                                                                                                                                                       NaN   \n",
       "1  {'paymentMethodId': 'm52tx8e1s', 'paymentMethodRegistrationFailure': False, 'paymentMethodType': 'card', 'paymentMethodProvider': 'Mastercard', 'paymentMethodIssuer': 'Vertex Bancorp'}   \n",
       "2                                                                                                                                                                                       NaN   \n",
       "\n",
       "                                                                                                                                                                                     paymentmethod5  \\\n",
       "0                                                                                                                                                                                               NaN   \n",
       "1  {'paymentMethodId': '41ug157xz', 'paymentMethodRegistrationFailure': False, 'paymentMethodType': 'bitcoin', 'paymentMethodProvider': 'American Express', 'paymentMethodIssuer': 'Bastion Banks'}   \n",
       "2                                                                                                                                                                                               NaN   \n",
       "\n",
       "                                                                                                                                                                             paymentmethod6  \\\n",
       "0                                                                                                                                                                                       NaN   \n",
       "1  {'paymentMethodId': '4dpg5sx2b', 'paymentMethodRegistrationFailure': False, 'paymentMethodType': 'card', 'paymentMethodProvider': 'Maestro', 'paymentMethodIssuer': 'Her Majesty Trust'}   \n",
       "2                                                                                                                                                                                       NaN   \n",
       "\n",
       "                                                                                                                                                                                        paymentmethod7  \\\n",
       "0                                                                                                                                                                                                  NaN   \n",
       "1  {'paymentMethodId': 'bcx9pa3wf', 'paymentMethodRegistrationFailure': False, 'paymentMethodType': 'card', 'paymentMethodProvider': 'JCB 16 digit', 'paymentMethodIssuer': 'Fountain Financial Inc.'}   \n",
       "2                                                                                                                                                                                                  NaN   \n",
       "\n",
       "  paymentmethod8 paymentmethod9 paymentmethod10 paymentmethod11  \\\n",
       "0            NaN            NaN             NaN             NaN   \n",
       "1            NaN            NaN             NaN             NaN   \n",
       "2            NaN            NaN             NaN             NaN   \n",
       "\n",
       "  paymentmethod12 paymentmethod13 paymentmethod14 paymentmethod15  \n",
       "0             NaN             NaN             NaN             NaN  \n",
       "1             NaN             NaN             NaN             NaN  \n",
       "2             NaN             NaN             NaN             NaN  "
      ]
     },
     "execution_count": 37,
     "metadata": {},
     "output_type": "execute_result"
    }
   ],
   "source": [
    "df4.columns = ['customer','fraudulent','order1','order2','order3','order4','order5','order6','order7','order8','transaction1','transaction2','transaction3','transaction4','transaction5','transaction6','transaction7','transaction8','transaction9','transaction10','transaction11','transaction12','transaction13','transaction14','transaction15','paymentmethod1','paymentmethod2','paymentmethod3','paymentmethod4','paymentmethod5','paymentmethod6','paymentmethod7','paymentmethod8','paymentmethod9','paymentmethod10','paymentmethod11','paymentmethod12','paymentmethod13','paymentmethod14','paymentmethod15']\n",
    "df4.head(3)"
   ]
  },
  {
   "cell_type": "code",
   "execution_count": 9,
   "metadata": {
    "scrolled": false
   },
   "outputs": [
    {
     "data": {
      "text/plain": [
       "order1             141\n",
       "order2             116\n",
       "order3              97\n",
       "order4              70\n",
       "order5              34\n",
       "order6              11\n",
       "order7               5\n",
       "order8               4\n",
       "transaction1       141\n",
       "transaction2       123\n",
       "transaction3       105\n",
       "transaction4        89\n",
       "transaction5        70\n",
       "transaction6        41\n",
       "transaction7        22\n",
       "transaction8        11\n",
       "transaction9         6\n",
       "transaction10        6\n",
       "transaction11        3\n",
       "transaction12        2\n",
       "transaction13        2\n",
       "transaction14        1\n",
       "transaction15        1\n",
       "paymentmethod1     156\n",
       "paymentmethod2      79\n",
       "paymentmethod3      40\n",
       "paymentmethod4      21\n",
       "paymentmethod5      12\n",
       "paymentmethod6       9\n",
       "paymentmethod7       4\n",
       "paymentmethod8       3\n",
       "paymentmethod9       3\n",
       "paymentmethod10      3\n",
       "paymentmethod11      3\n",
       "paymentmethod12      3\n",
       "paymentmethod13      3\n",
       "paymentmethod14      2\n",
       "paymentmethod15      1\n",
       "dtype: int64"
      ]
     },
     "execution_count": 9,
     "metadata": {},
     "output_type": "execute_result"
    }
   ],
   "source": [
    "f = lambda x: False if x==True else True\n",
    "df4v1 = df4[['order1','order2','order3','order4','order5','order6','order7','order8','transaction1','transaction2','transaction3','transaction4','transaction5','transaction6','transaction7','transaction8','transaction9','transaction10','transaction11','transaction12','transaction13','transaction14','transaction15','paymentmethod1','paymentmethod2','paymentmethod3','paymentmethod4','paymentmethod5','paymentmethod6','paymentmethod7','paymentmethod8','paymentmethod9','paymentmethod10','paymentmethod11','paymentmethod12','paymentmethod13','paymentmethod14','paymentmethod15']].isna().applymap(f).sum()\n",
    "df4v1"
   ]
  },
  {
   "cell_type": "code",
   "execution_count": 10,
   "metadata": {
    "scrolled": false
   },
   "outputs": [
    {
     "data": {
      "text/plain": [
       "([<matplotlib.patches.Wedge at 0x1f8462764e0>,\n",
       "  <matplotlib.patches.Wedge at 0x1f84629fac8>,\n",
       "  <matplotlib.patches.Wedge at 0x1f846250358>,\n",
       "  <matplotlib.patches.Wedge at 0x1f8417ff6a0>,\n",
       "  <matplotlib.patches.Wedge at 0x1f8461d9e80>,\n",
       "  <matplotlib.patches.Wedge at 0x1f8462446a0>,\n",
       "  <matplotlib.patches.Wedge at 0x1f84623bc18>,\n",
       "  <matplotlib.patches.Wedge at 0x1f84623b668>],\n",
       " [Text(0.6605200987347708, 0.8796096856944043, 'order1'),\n",
       "  Text(-0.9514206738924892, 0.5520857734899188, 'order2'),\n",
       "  Text(-0.7058349858505832, -0.8436806106278057, 'order3'),\n",
       "  Text(0.42928649314787826, -1.01277495367964, 'order4'),\n",
       "  Text(0.9724464488916829, -0.5141477453397574, 'order5'),\n",
       "  Text(1.0800800702185225, -0.20839155913028667, 'order6'),\n",
       "  Text(1.0959873634170938, -0.09387065159061973, 'order7'),\n",
       "  Text(1.099619894714427, -0.028915171592657017, 'order8')])"
      ]
     },
     "execution_count": 10,
     "metadata": {},
     "output_type": "execute_result"
    },
    {
     "data": {
      "image/png": "[encoded data removed]",
      "text/plain": [
       "<Figure size 432x288 with 1 Axes>"
      ]
     },
     "metadata": {},
     "output_type": "display_data"
    }
   ],
   "source": [
    "plt.pie(df4v1[['order1','order2','order3','order4','order5','order6','order7','order8']],labels=['order1','order2','order3','order4','order5','order6','order7','order8'])"
   ]
  },
  {
   "cell_type": "code",
   "execution_count": 11,
   "metadata": {
    "scrolled": false
   },
   "outputs": [
    {
     "data": {
      "text/plain": [
       "([<matplotlib.patches.Wedge at 0x1f8465840b8>,\n",
       "  <matplotlib.patches.Wedge at 0x1f846584588>,\n",
       "  <matplotlib.patches.Wedge at 0x1f846584a58>,\n",
       "  <matplotlib.patches.Wedge at 0x1f846584f28>,\n",
       "  <matplotlib.patches.Wedge at 0x1f84658e438>,\n",
       "  <matplotlib.patches.Wedge at 0x1f84658e908>,\n",
       "  <matplotlib.patches.Wedge at 0x1f84658edd8>,\n",
       "  <matplotlib.patches.Wedge at 0x1f8465972e8>,\n",
       "  <matplotlib.patches.Wedge at 0x1f8465977b8>,\n",
       "  <matplotlib.patches.Wedge at 0x1f846597c88>,\n",
       "  <matplotlib.patches.Wedge at 0x1f846568080>,\n",
       "  <matplotlib.patches.Wedge at 0x1f8465a1630>,\n",
       "  <matplotlib.patches.Wedge at 0x1f8465a1b00>,\n",
       "  <matplotlib.patches.Wedge at 0x1f8465a1fd0>,\n",
       "  <matplotlib.patches.Wedge at 0x1f8465aa4e0>],\n",
       " [Text(0.8334673206082331, 0.7178664398606004, 'transaction1'),\n",
       "  Text(-0.4996366274541336, 0.9799812449767901, 'transaction2'),\n",
       "  Text(-1.0986017190251207, -0.05544603642326323, 'transaction3'),\n",
       "  Text(-0.5675188862225183, -0.9422962982951554, 'transaction4'),\n",
       "  Text(0.2824679219113567, -1.0631142333216501, 'transaction5'),\n",
       "  Text(0.803837303728855, -0.750896523586256, 'transaction6'),\n",
       "  Text(0.998172304111939, -0.46222510890675633, 'transaction7'),\n",
       "  Text(1.0609472878089186, -0.2905010369876494, 'transaction8'),\n",
       "  Text(1.0819241820829475, -0.19859522709306318, 'transaction9'),\n",
       "  Text(1.0919540352534929, -0.1328020515414352, 'transaction10'),\n",
       "  Text(1.0968547085254483, -0.08312489630402035, 'transaction11'),\n",
       "  Text(1.0986017237702277, -0.05544594240415066, 'transaction12'),\n",
       "  Text(1.0994965533148238, -0.033276557045813844, 'transaction13'),\n",
       "  Text(1.0998741317724492, -0.016640139957382588, 'transaction14'),\n",
       "  Text(1.0999860146910136, -0.005546844524681463, 'transaction15')])"
      ]
     },
     "execution_count": 11,
     "metadata": {},
     "output_type": "execute_result"
    },
    {
     "data": {
      "image/png": "[encoded data removed]",
      "text/plain": [
       "<Figure size 432x288 with 1 Axes>"
      ]
     },
     "metadata": {},
     "output_type": "display_data"
    }
   ],
   "source": [
    "plt.pie(df4v1[['transaction1','transaction2','transaction3','transaction4','transaction5','transaction6','transaction7','transaction8','transaction9','transaction10','transaction11','transaction12','transaction13','transaction14','transaction15']],labels=['transaction1','transaction2','transaction3','transaction4','transaction5','transaction6','transaction7','transaction8','transaction9','transaction10','transaction11','transaction12','transaction13','transaction14','transaction15'])"
   ]
  },
  {
   "cell_type": "code",
   "execution_count": 12,
   "metadata": {},
   "outputs": [
    {
     "data": {
      "text/plain": [
       "([<matplotlib.patches.Wedge at 0x1f8465e6cc0>,\n",
       "  <matplotlib.patches.Wedge at 0x1f8465f11d0>,\n",
       "  <matplotlib.patches.Wedge at 0x1f8465f16a0>,\n",
       "  <matplotlib.patches.Wedge at 0x1f8465f1b70>,\n",
       "  <matplotlib.patches.Wedge at 0x1f8465fa080>,\n",
       "  <matplotlib.patches.Wedge at 0x1f8465fa550>,\n",
       "  <matplotlib.patches.Wedge at 0x1f8465faa20>,\n",
       "  <matplotlib.patches.Wedge at 0x1f8465faef0>,\n",
       "  <matplotlib.patches.Wedge at 0x1f846604400>,\n",
       "  <matplotlib.patches.Wedge at 0x1f8466048d0>,\n",
       "  <matplotlib.patches.Wedge at 0x1f8465cac88>,\n",
       "  <matplotlib.patches.Wedge at 0x1f84660d278>,\n",
       "  <matplotlib.patches.Wedge at 0x1f84660d748>,\n",
       "  <matplotlib.patches.Wedge at 0x1f84660dc18>,\n",
       "  <matplotlib.patches.Wedge at 0x1f846617128>],\n",
       " [Text(0.15108895297380623, 1.089574287641407, 'paymentmethod1'),\n",
       "  Text(-0.990438625611473, -0.47857217731169505, 'paymentmethod2'),\n",
       "  Text(-0.0303098669122844, -1.0995823352381393, 'paymentmethod3'),\n",
       "  Text(0.5587273847104345, -0.9475355980514073, 'paymentmethod4'),\n",
       "  Text(0.8161056222901616, -0.7375443127476399, 'paymentmethod5'),\n",
       "  Text(0.9423631687324909, -0.5674078411658223, 'paymentmethod6'),\n",
       "  Text(1.0032492361053835, -0.4510997342650125, 'paymentmethod7'),\n",
       "  Text(1.0301623372032775, -0.38570138579979313, 'paymentmethod8'),\n",
       "  Text(1.0498454782679236, -0.3283663681932043, 'paymentmethod9'),\n",
       "  Text(1.0663402730724574, -0.27003411270385325, 'paymentmethod10'),\n",
       "  Text(1.0795966274664397, -0.21088177247711443, 'paymentmethod11'),\n",
       "  Text(1.0895742823366679, -0.15108899122879638, 'paymentmethod12'),\n",
       "  Text(1.0962429358727814, -0.09083735767306714, 'paymentmethod13'),\n",
       "  Text(1.0992575229926782, -0.04040913441292337, 'paymentmethod14'),\n",
       "  Text(1.099953589759918, -0.01010447298329661, 'paymentmethod15')])"
      ]
     },
     "execution_count": 12,
     "metadata": {},
     "output_type": "execute_result"
    },
    {
     "data": {
      "image/png": "[encoded data removed]",
      "text/plain": [
       "<Figure size 432x288 with 1 Axes>"
      ]
     },
     "metadata": {},
     "output_type": "display_data"
    }
   ],
   "source": [
    "plt.pie(df4v1[['paymentmethod1','paymentmethod2','paymentmethod3','paymentmethod4','paymentmethod5','paymentmethod6','paymentmethod7','paymentmethod8','paymentmethod9','paymentmethod10','paymentmethod11','paymentmethod12','paymentmethod13','paymentmethod14','paymentmethod15']],labels=['paymentmethod1','paymentmethod2','paymentmethod3','paymentmethod4','paymentmethod5','paymentmethod6','paymentmethod7','paymentmethod8','paymentmethod9','paymentmethod10','paymentmethod11','paymentmethod12','paymentmethod13','paymentmethod14','paymentmethod15'])"
   ]
  },
  {
   "cell_type": "code",
   "execution_count": 40,
   "metadata": {},
   "outputs": [],
   "source": [
    "df4['orderlength'] = 8 - df4.iloc[:,2:10].isna().sum(axis = 1)\n",
    "df4['transactionlength'] = 15 - df4.iloc[:,10:25].isna().sum(axis = 1)\n",
    "df4['paymentmethodlength'] = 15 - df4.iloc[:,25:40].isna().sum(axis = 1)"
   ]
  },
  {
   "cell_type": "code",
   "execution_count": 15,
   "metadata": {},
   "outputs": [
    {
     "data": {
      "text/plain": [
       "fraudulent\n",
       "False    2.495327\n",
       "True     3.459016\n",
       "Name: orderlength, dtype: float64"
      ]
     },
     "execution_count": 15,
     "metadata": {},
     "output_type": "execute_result"
    }
   ],
   "source": [
    "df5 = df4.groupby(['fraudulent']).orderlength.mean()\n",
    "df5"
   ]
  },
  {
   "cell_type": "code",
   "execution_count": 16,
   "metadata": {},
   "outputs": [
    {
     "data": {
      "text/plain": [
       "Text(0, 0.5, 'Mean number of orders')"
      ]
     },
     "execution_count": 16,
     "metadata": {},
     "output_type": "execute_result"
    },
    {
     "data": {
      "image/png": "[encoded data removed]",
      "text/plain": [
       "<Figure size 432x288 with 1 Axes>"
      ]
     },
     "metadata": {
      "needs_background": "light"
     },
     "output_type": "display_data"
    }
   ],
   "source": [
    "plt.bar(df5,height=df5,tick_label=['No','Yes'])\n",
    "plt.xlabel(\"Fraudulent?\")\n",
    "plt.ylabel(\"Mean number of orders\")"
   ]
  },
  {
   "cell_type": "code",
   "execution_count": 17,
   "metadata": {},
   "outputs": [
    {
     "data": {
      "text/plain": [
       "fraudulent\n",
       "False    3.420561\n",
       "True     4.213115\n",
       "Name: transactionlength, dtype: float64"
      ]
     },
     "execution_count": 17,
     "metadata": {},
     "output_type": "execute_result"
    }
   ],
   "source": [
    "df6 = df4.groupby(['fraudulent']).transactionlength.mean()\n",
    "df6"
   ]
  },
  {
   "cell_type": "code",
   "execution_count": 38,
   "metadata": {},
   "outputs": [
    {
     "data": {
      "text/plain": [
       "Text(0, 0.5, 'Mean number of transactions')"
      ]
     },
     "execution_count": 38,
     "metadata": {},
     "output_type": "execute_result"
    },
    {
     "data": {
      "image/png": "[encoded data removed]",
      "text/plain": [
       "<Figure size 432x288 with 1 Axes>"
      ]
     },
     "metadata": {
      "needs_background": "light"
     },
     "output_type": "display_data"
    }
   ],
   "source": [
    "plt.bar(df6,height=df6,tick_label=['No','Yes'])\n",
    "plt.xlabel(\"Fraudulent?\")\n",
    "plt.ylabel(\"Mean number of transactions\")"
   ]
  },
  {
   "cell_type": "code",
   "execution_count": 19,
   "metadata": {},
   "outputs": [
    {
     "data": {
      "text/plain": [
       "fraudulent\n",
       "False    1.467290\n",
       "True     3.032787\n",
       "Name: paymentmethodlength, dtype: float64"
      ]
     },
     "execution_count": 19,
     "metadata": {},
     "output_type": "execute_result"
    }
   ],
   "source": [
    "df7 = df4.groupby(['fraudulent']).paymentmethodlength.mean()\n",
    "df7"
   ]
  },
  {
   "cell_type": "code",
   "execution_count": 20,
   "metadata": {},
   "outputs": [
    {
     "data": {
      "text/plain": [
       "Text(0, 0.5, 'Mean number of payment methods used')"
      ]
     },
     "execution_count": 20,
     "metadata": {},
     "output_type": "execute_result"
    },
    {
     "data": {
      "image/png": "[encoded data removed]",
      "text/plain": [
       "<Figure size 432x288 with 1 Axes>"
      ]
     },
     "metadata": {
      "needs_background": "light"
     },
     "output_type": "display_data"
    }
   ],
   "source": [
    "plt.bar(df7,height=df7,tick_label=['No','Yes'])\n",
    "plt.xlabel(\"Fraudulent?\")\n",
    "plt.ylabel(\"Mean number of payment methods used\")"
   ]
  },
  {
   "cell_type": "markdown",
   "metadata": {},
   "source": [
    "Some deductions:\n",
    "- Customer information is insignificant to commiting fraud.\n",
    "- Fraudulent customers are more likely to make more orders and attempted transactions.\n",
    "- Fraudulent customers are more likely to use twice more payment methods."
   ]
  },
  {
   "cell_type": "markdown",
   "metadata": {},
   "source": [
    "## After creating the 3 new pandas Series I also attempted Option A:\n",
    "- Transform the json profiles into feature vectors.\n",
    "- Construct a model to predict if a customer is fraudulent based on their profile.\n",
    "- Report on the models success and show what features are most important."
   ]
  },
  {
   "cell_type": "markdown",
   "metadata": {},
   "source": [
    "As stated above customer information is not relevant to identifying whether they commited fraud, so it will not be used in the model."
   ]
  },
  {
   "cell_type": "code",
   "execution_count": 53,
   "metadata": {},
   "outputs": [
    {
     "data": {
      "text/html": [
       "<div>\n",
       "<style scoped>\n",
       "    .dataframe tbody tr th:only-of-type {\n",
       "        vertical-align: middle;\n",
       "    }\n",
       "\n",
       "    .dataframe tbody tr th {\n",
       "        vertical-align: top;\n",
       "    }\n",
       "\n",
       "    .dataframe thead th {\n",
       "        text-align: right;\n",
       "    }\n",
       "</style>\n",
       "<table border=\"1\" class=\"dataframe\">\n",
       "  <thead>\n",
       "    <tr style=\"text-align: right;\">\n",
       "      <th></th>\n",
       "      <th>fraudulent</th>\n",
       "      <th>orderlength</th>\n",
       "      <th>transactionlength</th>\n",
       "      <th>paymentmethodlength</th>\n",
       "    </tr>\n",
       "  </thead>\n",
       "  <tbody>\n",
       "    <tr>\n",
       "      <th>0</th>\n",
       "      <td>0.0</td>\n",
       "      <td>2.0</td>\n",
       "      <td>2.0</td>\n",
       "      <td>1.0</td>\n",
       "    </tr>\n",
       "    <tr>\n",
       "      <th>1</th>\n",
       "      <td>1.0</td>\n",
       "      <td>3.0</td>\n",
       "      <td>3.0</td>\n",
       "      <td>7.0</td>\n",
       "    </tr>\n",
       "    <tr>\n",
       "      <th>2</th>\n",
       "      <td>0.0</td>\n",
       "      <td>3.0</td>\n",
       "      <td>5.0</td>\n",
       "      <td>2.0</td>\n",
       "    </tr>\n",
       "    <tr>\n",
       "      <th>3</th>\n",
       "      <td>0.0</td>\n",
       "      <td>3.0</td>\n",
       "      <td>3.0</td>\n",
       "      <td>1.0</td>\n",
       "    </tr>\n",
       "    <tr>\n",
       "      <th>4</th>\n",
       "      <td>1.0</td>\n",
       "      <td>7.0</td>\n",
       "      <td>7.0</td>\n",
       "      <td>6.0</td>\n",
       "    </tr>\n",
       "  </tbody>\n",
       "</table>\n",
       "</div>"
      ],
      "text/plain": [
       "   fraudulent  orderlength  transactionlength  paymentmethodlength\n",
       "0         0.0          2.0                2.0                  1.0\n",
       "1         1.0          3.0                3.0                  7.0\n",
       "2         0.0          3.0                5.0                  2.0\n",
       "3         0.0          3.0                3.0                  1.0\n",
       "4         1.0          7.0                7.0                  6.0"
      ]
     },
     "execution_count": 53,
     "metadata": {},
     "output_type": "execute_result"
    }
   ],
   "source": [
    "df8 = df4[['fraudulent','orderlength','transactionlength','paymentmethodlength']]\n",
    "df8 = df8.astype('float64')\n",
    "df8.head()"
   ]
  },
  {
   "cell_type": "code",
   "execution_count": 54,
   "metadata": {},
   "outputs": [],
   "source": [
    "y = df8['fraudulent']\n",
    "X = df8[['orderlength','transactionlength','paymentmethodlength']]"
   ]
  },
  {
   "cell_type": "code",
   "execution_count": 60,
   "metadata": {},
   "outputs": [],
   "source": [
    "from sklearn.model_selection import train_test_split\n",
    "X_train, X_test, y_train, y_test = train_test_split(X, y, random_state=0)\n",
    "from sklearn.preprocessing import MinMaxScaler\n",
    "scaler = MinMaxScaler()\n",
    "X_train = scaler.fit_transform(X_train)\n",
    "X_test = scaler.transform(X_test)"
   ]
  },
  {
   "cell_type": "code",
   "execution_count": 61,
   "metadata": {},
   "outputs": [
    {
     "name": "stdout",
     "output_type": "stream",
     "text": [
      "Accuracy of Logistic regression classifier on training set: 0.69\n",
      "Accuracy of Logistic regression classifier on test set: 0.83\n"
     ]
    }
   ],
   "source": [
    "from sklearn.linear_model import LogisticRegression\n",
    "logreg = LogisticRegression(solver='lbfgs')\n",
    "logreg.fit(X_train, y_train)\n",
    "print('Accuracy of Logistic regression classifier on training set: {:.2f}'\n",
    "     .format(logreg.score(X_train, y_train)))\n",
    "print('Accuracy of Logistic regression classifier on test set: {:.2f}'\n",
    "     .format(logreg.score(X_test, y_test)))"
   ]
  },
  {
   "cell_type": "code",
   "execution_count": 26,
   "metadata": {},
   "outputs": [
    {
     "name": "stdout",
     "output_type": "stream",
     "text": [
      "Accuracy of Decision Tree classifier on training set: 0.83\n",
      "Accuracy of Decision Tree classifier on test set: 0.83\n"
     ]
    }
   ],
   "source": [
    "from sklearn.tree import DecisionTreeClassifier\n",
    "clf = DecisionTreeClassifier().fit(X_train, y_train)\n",
    "print('Accuracy of Decision Tree classifier on training set: {:.2f}'\n",
    "     .format(clf.score(X_train, y_train)))\n",
    "print('Accuracy of Decision Tree classifier on test set: {:.2f}'\n",
    "     .format(clf.score(X_test, y_test)))"
   ]
  },
  {
   "cell_type": "code",
   "execution_count": 63,
   "metadata": {},
   "outputs": [
    {
     "name": "stdout",
     "output_type": "stream",
     "text": [
      "Accuracy of K-NN classifier on training set: 0.79\n",
      "Accuracy of K-NN classifier on test set: 0.83\n"
     ]
    }
   ],
   "source": [
    "from sklearn.neighbors import KNeighborsClassifier\n",
    "knn = KNeighborsClassifier(2)\n",
    "knn.fit(X_train, y_train)\n",
    "print('Accuracy of K-NN classifier on training set: {:.2f}'\n",
    "     .format(knn.score(X_train, y_train)))\n",
    "print('Accuracy of K-NN classifier on test set: {:.2f}'\n",
    "     .format(knn.score(X_test, y_test)))"
   ]
  },
  {
   "cell_type": "code",
   "execution_count": 28,
   "metadata": {},
   "outputs": [
    {
     "data": {
      "text/plain": [
       "([<matplotlib.axis.XTick at 0x1f8461ff048>,\n",
       "  <matplotlib.axis.XTick at 0x1f8472d2978>,\n",
       "  <matplotlib.axis.XTick at 0x1f8472c7ac8>,\n",
       "  <matplotlib.axis.XTick at 0x1f8472f63c8>,\n",
       "  <matplotlib.axis.XTick at 0x1f8472f6860>],\n",
       " <a list of 5 Text xticklabel objects>)"
      ]
     },
     "execution_count": 28,
     "metadata": {},
     "output_type": "execute_result"
    },
    {
     "data": {
      "image/png": "[encoded data removed]",
      "text/plain": [
       "<Figure size 432x288 with 1 Axes>"
      ]
     },
     "metadata": {
      "needs_background": "light"
     },
     "output_type": "display_data"
    }
   ],
   "source": [
    "k_range = range(1, 20)\n",
    "scores = []\n",
    "for k in k_range:\n",
    "    knn = KNeighborsClassifier(n_neighbors = k)\n",
    "    knn.fit(X_train, y_train)\n",
    "    scores.append(knn.score(X_test, y_test))\n",
    "plt.figure()\n",
    "plt.xlabel('k')\n",
    "plt.ylabel('accuracy')\n",
    "plt.scatter(k_range, scores)\n",
    "plt.xticks([0,5,10,15,20])"
   ]
  },
  {
   "cell_type": "code",
   "execution_count": 29,
   "metadata": {},
   "outputs": [
    {
     "name": "stdout",
     "output_type": "stream",
     "text": [
      "Accuracy of LDA classifier on training set: 0.71\n",
      "Accuracy of LDA classifier on test set: 0.76\n"
     ]
    }
   ],
   "source": [
    "from sklearn.discriminant_analysis import LinearDiscriminantAnalysis\n",
    "lda = LinearDiscriminantAnalysis()\n",
    "lda.fit(X_train, y_train)\n",
    "print('Accuracy of LDA classifier on training set: {:.2f}'\n",
    "     .format(lda.score(X_train, y_train)))\n",
    "print('Accuracy of LDA classifier on test set: {:.2f}'\n",
    "     .format(lda.score(X_test, y_test)))"
   ]
  },
  {
   "cell_type": "code",
   "execution_count": 30,
   "metadata": {},
   "outputs": [
    {
     "name": "stdout",
     "output_type": "stream",
     "text": [
      "Accuracy of GNB classifier on training set: 0.71\n",
      "Accuracy of GNB classifier on test set: 0.83\n"
     ]
    }
   ],
   "source": [
    "from sklearn.naive_bayes import GaussianNB\n",
    "gnb = GaussianNB()\n",
    "gnb.fit(X_train, y_train)\n",
    "print('Accuracy of GNB classifier on training set: {:.2f}'\n",
    "     .format(gnb.score(X_train, y_train)))\n",
    "print('Accuracy of GNB classifier on test set: {:.2f}'\n",
    "     .format(gnb.score(X_test, y_test)))"
   ]
  },
  {
   "cell_type": "code",
   "execution_count": 31,
   "metadata": {},
   "outputs": [
    {
     "name": "stdout",
     "output_type": "stream",
     "text": [
      "Accuracy of SVM classifier on training set: 0.68\n",
      "Accuracy of SVM classifier on test set: 0.76\n"
     ]
    }
   ],
   "source": [
    "from sklearn.svm import LinearSVC\n",
    "svm = LinearSVC()\n",
    "svm.fit(X_train, y_train)\n",
    "print('Accuracy of SVM classifier on training set: {:.2f}'\n",
    "     .format(svm.score(X_train, y_train)))\n",
    "print('Accuracy of SVM classifier on test set: {:.2f}'\n",
    "     .format(svm.score(X_test, y_test)))"
   ]
  },
  {
   "cell_type": "code",
   "execution_count": 32,
   "metadata": {},
   "outputs": [
    {
     "name": "stdout",
     "output_type": "stream",
     "text": [
      "Accuracy of RF classifier on training set: 0.74\n",
      "Accuracy of RF classifier on test set: 0.81\n"
     ]
    }
   ],
   "source": [
    "from sklearn.ensemble import RandomForestClassifier\n",
    "RF = RandomForestClassifier(n_estimators=100, max_depth=2, random_state=0)\n",
    "RF.fit(X_train, y_train)\n",
    "print('Accuracy of RF classifier on training set: {:.2f}'\n",
    "     .format(RF.score(X_train, y_train)))\n",
    "print('Accuracy of RF classifier on test set: {:.2f}'\n",
    "     .format(RF.score(X_test, y_test)))"
   ]
  },
  {
   "cell_type": "code",
   "execution_count": 62,
   "metadata": {},
   "outputs": [
    {
     "name": "stdout",
     "output_type": "stream",
     "text": [
      "Accuracy of NN classifier on training set: 0.60\n",
      "Accuracy of NN classifier on test set: 0.74\n"
     ]
    }
   ],
   "source": [
    "from sklearn.neural_network import MLPClassifier\n",
    "NN = MLPClassifier(solver='lbfgs', alpha=1e-5, hidden_layer_sizes=(5, 2), random_state=1)  \n",
    "NN.fit(X_train, y_train)\n",
    "print('Accuracy of NN classifier on training set: {:.2f}'\n",
    "     .format(NN.score(X_train, y_train)))\n",
    "print('Accuracy of NN classifier on test set: {:.2f}'\n",
    "     .format(NN.score(X_test, y_test)))"
   ]
  },
  {
   "cell_type": "markdown",
   "metadata": {},
   "source": [
    "Decision Trees seem to perform the best in both the training and test set. K-nearest neighbours also performs very well (with k=2)\n",
    "\n",
    "Random Forest, Logistic Regression, Gaussian Naive Bayes also perform well."
   ]
  }
 ],
 "metadata": {
  "kernelspec": {
   "display_name": "Python 3",
   "language": "python",
   "name": "python3"
  },
  "language_info": {
   "codemirror_mode": {
    "name": "ipython",
    "version": 3
   },
   "file_extension": ".py",
   "mimetype": "text/x-python",
   "name": "python",
   "nbconvert_exporter": "python",
   "pygments_lexer": "ipython3",
   "version": "3.7.3"
  }
 },
 "nbformat": 4,
 "nbformat_minor": 2
}
